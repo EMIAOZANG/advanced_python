{
 "cells": [
  {
   "cell_type": "markdown",
   "metadata": {},
   "source": [
    "# DS-GA-3001 Advanced Python for Data Science"
   ]
  },
  {
   "cell_type": "markdown",
   "metadata": {
    "nbgrader": {
     "grade": false,
     "solution": false
    }
   },
   "source": [
    "Before you turn this problem in, make sure you **restart the kernel** (in the menubar, select Kernel$\\rightarrow$Restart). You can then either run all cells (in the menubar, select Cell$\\rightarrow$Run All), or run each cell individually, **in order**, during the class.\n",
    "\n",
    "Any textual answers that need to be provided will be marked with \"YOUR ANSWER HERE\". Replace this text with your answer to the question.\n",
    "\n",
    "Any code answers that need to be provided will be marked with:\n",
    "\n",
    "```\n",
    "# YOUR CODE HERE\n",
    "raise NotImplementedError()\n",
    "```\n",
    "\n",
    "Replace all this code with your answer to the question. If you do not answer the question, the `NotImplementedError` exception will be raised, which will indicate to the grader that no answer has been supplied.\n",
    "\n",
    "In many cases, code answers will also have some associated test code. You should execute the tests after you have entered your code in order to ensure that your answer is correct. You should not proceed to the next question until your answer is correct.\n",
    "\n",
    "Finally, insert your Net ID and the Net ID's of any collaborators in the cell below."
   ]
  },
  {
   "cell_type": "code",
   "execution_count": 1,
   "metadata": {
    "collapsed": false,
    "nbgrader": {
     "grade": false,
     "solution": false
    }
   },
   "outputs": [],
   "source": [
    "NET_ID = \"jl6583\"\n",
    "COLLABORATORS = \"\""
   ]
  },
  {
   "cell_type": "markdown",
   "metadata": {
    "nbgrader": {
     "grade": false,
     "solution": false
    }
   },
   "source": [
    "---"
   ]
  },
  {
   "cell_type": "markdown",
   "metadata": {},
   "source": [
    "# NumPy Performance Tips"
   ]
  },
  {
   "cell_type": "markdown",
   "metadata": {},
   "source": [
    "## Why are NumPy arrays efficient?"
   ]
  },
  {
   "cell_type": "markdown",
   "metadata": {},
   "source": [
    "A NumPy array is described by metadata (number of dimensions, shape, data type, and so on) and the actual data. The data is stored in a homogeneous and contiguous block of memory, at a particular address in system memory. This block of memory is called the data buffer, and is the main difference with a pure Python structures, like a list, where the items are scattered across the system memory. This aspect is the critical feature that makes NumPy arrays so efficient.\n",
    "\n",
    "Why is this so important?\n",
    "\n",
    "1. **Array computations can be written very efficiently in a low-level language like C** (and a large part of NumPy is actually written in C). Knowing the address of the memory block and the data type, it is just simple arithmetic to loop over all items, for example. There would be a significant overhead to do that in Python with a list.\n",
    "\n",
    "2. **Spatial locality in memory access patterns** results in significant performance gains, notably thanks to the CPU cache. Indeed, the cache loads bytes in chunks from RAM to the CPU registers. Adjacent items are then loaded very efficiently (sequential locality, or locality of reference).\n",
    "\n",
    "3. **Data elements are stored contiguously in memory**, so that NumPy can take advantage of vectorized instructions on modern CPUs, like Intel's SSE and AVX, AMD's XOP, and so on. For example, multiple consecutive floating point numbers can be loaded in 128, 256 or 512 bits registers for vectorized arithmetical computations implemented as CPU instructions.\n",
    "\n",
    "Additionally, NumPy can also be linked to highly optimized linear algebra libraries like BLAS and LAPACK, for example through the Intel Math Kernel Library (MKL). A few specific matrix computations may also be multithreaded, taking advantage of the power of modern multicore processors.\n",
    "\n",
    "In conclusion, storing data in a contiguous block of memory ensures that the architecture of modern CPUs is used optimally, in terms of memory access patterns, CPU cache, and vectorized instructions."
   ]
  },
  {
   "cell_type": "markdown",
   "metadata": {},
   "source": [
    "## Array copy semantics"
   ]
  },
  {
   "cell_type": "markdown",
   "metadata": {},
   "source": [
    "Although NumPy arrays enable fast computations, it is still easy to run into performance problems. One of the most common performance issues you will enounter with NumPy arrays is caused by inadvertent array copies. This occurs when NumPy makes a copy of an existing array in order to perform some operation. To do this, NumPy must copy all the elements from the old array to the new array, which for large arrays, can impose a significant performance and memory penalty. In this section we will expore how to identify when an array is copied and show some techniques for avoiding it."
   ]
  },
  {
   "cell_type": "markdown",
   "metadata": {},
   "source": [
    "Try running the following code:"
   ]
  },
  {
   "cell_type": "code",
   "execution_count": 2,
   "metadata": {
    "collapsed": false,
    "nbgrader": {
     "grade": false,
     "locked": false,
     "solution": false
    }
   },
   "outputs": [
    {
     "name": "stdout",
     "output_type": "stream",
     "text": [
      "100 loops, best of 3: 3.21 ms per loop\n",
      "100 loops, best of 3: 5.36 ms per loop\n"
     ]
    }
   ],
   "source": [
    "import numpy as np\n",
    "\n",
    "def func1():\n",
    "    a = np.zeros(1000000)\n",
    "    a *= 2\n",
    "    \n",
    "def func2():\n",
    "    a = np.zeros(1000000)\n",
    "    a = a * 2\n",
    "\n",
    "%timeit func1()\n",
    "%timeit func2()"
   ]
  },
  {
   "cell_type": "markdown",
   "metadata": {},
   "source": [
    "Why is there a difference?"
   ]
  },
  {
   "cell_type": "markdown",
   "metadata": {},
   "source": [
    "An expression like \"`a *= 2`\" corresponds to an in-place operation, where all values of the array are multiplied by two. By contrast, \"`a = a * 2`\" means that a new array containing the values of \"`a * 2`\" is created, and the variable a now points to this new array. The old array becomes unreferenced and will be deleted by the garbage collector. No memory allocation happens in the first case, contrary to the second case."
   ]
  },
  {
   "cell_type": "markdown",
   "metadata": {},
   "source": [
    "How can we tell if an array has been copied or not? The `is` keyword will tell us if the arrays are the same, but not if they are only sharing data. In the example below, `is` says the arrays are different, but is this really the case?"
   ]
  },
  {
   "cell_type": "code",
   "execution_count": 3,
   "metadata": {
    "collapsed": false,
    "nbgrader": {
     "grade": false,
     "locked": false,
     "solution": false
    }
   },
   "outputs": [
    {
     "data": {
      "text/plain": [
       "False"
      ]
     },
     "execution_count": 3,
     "metadata": {},
     "output_type": "execute_result"
    }
   ],
   "source": [
    "a = np.zeros((10, 10))\n",
    "b = a.reshape((1, -1))\n",
    "b is a"
   ]
  },
  {
   "cell_type": "markdown",
   "metadata": {},
   "source": [
    "One way to check if the arrays are sharing data is to compare the location of the data using the following function:"
   ]
  },
  {
   "cell_type": "code",
   "execution_count": 4,
   "metadata": {
    "collapsed": true
   },
   "outputs": [],
   "source": [
    "def id(x):\n",
    "    # This function returns the memory\n",
    "    # block address of an array.\n",
    "    return x.__array_interface__['data'][0] #returns the array head"
   ]
  },
  {
   "cell_type": "code",
   "execution_count": 5,
   "metadata": {
    "collapsed": false
   },
   "outputs": [
    {
     "data": {
      "text/plain": [
       "True"
      ]
     },
     "execution_count": 5,
     "metadata": {},
     "output_type": "execute_result"
    }
   ],
   "source": [
    "id(a) == id(b)"
   ]
  },
  {
   "cell_type": "markdown",
   "metadata": {},
   "source": [
    "*Note that this only works if the arrays have the same offset (first element). Two shared arrays with different offsets will have different memory locations:*"
   ]
  },
  {
   "cell_type": "code",
   "execution_count": 6,
   "metadata": {
    "collapsed": false
   },
   "outputs": [
    {
     "data": {
      "text/plain": [
       "False"
      ]
     },
     "execution_count": 6,
     "metadata": {},
     "output_type": "execute_result"
    }
   ],
   "source": [
    "id(a) == id(a[1:])"
   ]
  },
  {
   "cell_type": "markdown",
   "metadata": {},
   "source": [
    "Reshaping an array may or may not involve a copy. In the example above, we saw that reshape does not copy the array if the order is preserved."
   ]
  },
  {
   "cell_type": "markdown",
   "metadata": {},
   "source": [
    "Transposing the array changes its order, so the array is copied. "
   ]
  },
  {
   "cell_type": "code",
   "execution_count": 7,
   "metadata": {
    "collapsed": false
   },
   "outputs": [
    {
     "data": {
      "text/plain": [
       "False"
      ]
     },
     "execution_count": 7,
     "metadata": {},
     "output_type": "execute_result"
    }
   ],
   "source": [
    "c = a.T.reshape((1, -1)) #Transposing array will generate a copy\n",
    "id(a) == id(c)"
   ]
  },
  {
   "cell_type": "markdown",
   "metadata": {},
   "source": [
    "The flatten and ravel methods of an array reshape it into a 1D vector (flattened array). The former method always returns a copy, whereas the latter returns a copy only if necessary (so it's significantly faster too, especially with large arrays)."
   ]
  },
  {
   "cell_type": "code",
   "execution_count": 8,
   "metadata": {
    "collapsed": false
   },
   "outputs": [
    {
     "data": {
      "text/plain": [
       "False"
      ]
     },
     "execution_count": 8,
     "metadata": {},
     "output_type": "execute_result"
    }
   ],
   "source": [
    "d = a.flatten()\n",
    "id(a) == id(d)"
   ]
  },
  {
   "cell_type": "code",
   "execution_count": 9,
   "metadata": {
    "collapsed": false
   },
   "outputs": [
    {
     "data": {
      "text/plain": [
       "True"
      ]
     },
     "execution_count": 9,
     "metadata": {},
     "output_type": "execute_result"
    }
   ],
   "source": [
    "e = a.ravel() #only make copy when necessary\n",
    "id(e) == id(a)"
   ]
  },
  {
   "cell_type": "code",
   "execution_count": 10,
   "metadata": {
    "collapsed": false
   },
   "outputs": [
    {
     "name": "stdout",
     "output_type": "stream",
     "text": [
      "The slowest run took 200.55 times longer than the fastest. This could mean that an intermediate result is being cached \n",
      "1000000 loops, best of 3: 663 ns per loop\n",
      "The slowest run took 10.97 times longer than the fastest. This could mean that an intermediate result is being cached \n",
      "1000000 loops, best of 3: 283 ns per loop\n"
     ]
    }
   ],
   "source": [
    "%timeit a.flatten()\n",
    "%timeit a.ravel()"
   ]
  },
  {
   "cell_type": "markdown",
   "metadata": {},
   "source": [
    "## Why can some arrays be reshaped without a copy?"
   ]
  },
  {
   "cell_type": "markdown",
   "metadata": {},
   "source": [
    "A 2-dimensional array contains items indexed by two numbers (row and column), but it is stored internally as a 1-dimensional contiguous block of memory (sometimes known as a vector), accessible with a single number. \n",
    "\n",
    "There is more than one way of storing items in a 1-dimensional block of memory. One way is to store the elements of the first row first, then the second row, and so on. Another way is to store the elements of the first column first, then the second column, and so on. This first method is called row-major order, while the latter is called column-major order. Choosing between the two methods is only a matter of internal convention. NumPy and C use the row-major order. Other languages, like FORTRAN, use column-major order."
   ]
  },
  {
   "cell_type": "markdown",
   "metadata": {},
   "source": [
    "For example, the NumPy array:"
   ]
  },
  {
   "cell_type": "markdown",
   "metadata": {},
   "source": [
    "<p>\n",
    "<table align=\"left\">\n",
    "<tr><td>row</td><td align=\"center\" colspan=\"3\">column</td></tr>\n",
    "<tr><td></td><td>0</td><td>1</td><td>2</td></tr>\n",
    "<tr><td>0</td><td>[0,0]</td><td>[0,1]</td><td>[0,2]</td></tr>\n",
    "<tr><td>1</td><td>[1,0]</td><td>[1,1]</td><td>[1,2]</td></tr>\n",
    "<tr><td>2</td><td>[2,0]</td><td>[2,1]</td><td>[2,2]</td></tr>\n",
    "</table>\n",
    "</p>"
   ]
  },
  {
   "cell_type": "markdown",
   "metadata": {},
   "source": [
    "This array is stored in memory as:"
   ]
  },
  {
   "cell_type": "markdown",
   "metadata": {},
   "source": [
    "<table align=\"left\">\n",
    "<tr><td>offset</td><td>0</td><td>1</td><td>2</td>\n",
    "<td>3</td><td>4</td><td>5</td>\n",
    "<td>6</td><td>7</td><td>8</td></tr>\n",
    "<tr><td>cell</td><td>[0,0]</td><td>[0,1]</td><td>[0,2]</td>\n",
    "<td>[1,0]</td><td>[1,1]</td><td>[1,2]</td>\n",
    "<td>[2,0]</td><td>[2,1]</td><td>[2,2]</td></tr>\n",
    "</table>"
   ]
  },
  {
   "cell_type": "markdown",
   "metadata": {},
   "source": [
    "NumPy uses the notion of **strides** to convert between a multidimensional index and the memory location of the underlying (1-dimensional) sequence of elements. The specific mapping between `array[i1, i2]` and the relevant byte address of the internal data is given by:"
   ]
  },
  {
   "cell_type": "markdown",
   "metadata": {},
   "source": [
    "`offset = array.strides[0] * i1 + array.strides[1] * i2`"
   ]
  },
  {
   "cell_type": "markdown",
   "metadata": {},
   "source": [
    "When reshaping an array, NumPy avoids copies when possible by modifying the strides attribute. For example, when transposing an array, the order of strides is reversed, but the underlying data remains identical. However, flattening a transposed array cannot be accomplished simply by modifying strides, so a copy is needed."
   ]
  },
  {
   "cell_type": "markdown",
   "metadata": {},
   "source": [
    "Suppose we have the following array:"
   ]
  },
  {
   "cell_type": "code",
   "execution_count": 11,
   "metadata": {
    "collapsed": true
   },
   "outputs": [],
   "source": [
    "a = np.random.rand(5000, 5000)"
   ]
  },
  {
   "cell_type": "markdown",
   "metadata": {},
   "source": [
    "<div class=\"alert alert-success\">\n",
    "Write a Python statement to find the sum of the elements in the first row and time how long it takes to run:\n",
    "</div>"
   ]
  },
  {
   "cell_type": "code",
   "execution_count": 12,
   "metadata": {
    "collapsed": false,
    "deletable": false,
    "nbgrader": {
     "checksum": "b437b97a26dbe24f8ec5f0ce999ed8fd",
     "grade": true,
     "grade_id": "numpy_1",
     "locked": false,
     "points": 1,
     "solution": true
    }
   },
   "outputs": [
    {
     "name": "stdout",
     "output_type": "stream",
     "text": [
      "The slowest run took 17.95 times longer than the fastest. This could mean that an intermediate result is being cached \n",
      "100000 loops, best of 3: 5.74 µs per loop\n"
     ]
    }
   ],
   "source": [
    "%timeit np.sum(a[0,:])"
   ]
  },
  {
   "cell_type": "markdown",
   "metadata": {},
   "source": [
    "<div class=\"alert alert-success\">\n",
    "Now write a Python statement to find the sum of the first element in each column and time how long it takes to run: \n",
    "</div>"
   ]
  },
  {
   "cell_type": "code",
   "execution_count": 13,
   "metadata": {
    "collapsed": false,
    "deletable": false,
    "nbgrader": {
     "checksum": "8f0b2f6f6dfaf777a425e5103e09b5cc",
     "grade": true,
     "grade_id": "numpy_2",
     "locked": false,
     "points": 1,
     "solution": true
    }
   },
   "outputs": [
    {
     "name": "stdout",
     "output_type": "stream",
     "text": [
      "The slowest run took 20.83 times longer than the fastest. This could mean that an intermediate result is being cached \n",
      "10000 loops, best of 3: 83.4 µs per loop\n"
     ]
    }
   ],
   "source": [
    "%timeit np.sum(a[:,0])"
   ]
  },
  {
   "cell_type": "markdown",
   "metadata": {},
   "source": [
    "You should see that the second statement takes much longer to run than the first."
   ]
  },
  {
   "cell_type": "markdown",
   "metadata": {},
   "source": [
    "## Broadcasting rules"
   ]
  },
  {
   "cell_type": "markdown",
   "metadata": {},
   "source": [
    "NumPy broadcasting allows you to perform computations on arrays with different but compatible shapes. This means that it's not always necessary to reshape or tile arrays to make their shapes match. Broadcasting does not involve any memory copy."
   ]
  },
  {
   "cell_type": "markdown",
   "metadata": {},
   "source": [
    "> Two dimensions are compatible when they are equal, or when one of them is one."
   ]
  },
  {
   "cell_type": "markdown",
   "metadata": {},
   "source": [
    "The following example illustrates two ways of doing an outer product between two vectors: the first method involves array tiling, the second one involves broadcasting. The last method is significantly faster."
   ]
  },
  {
   "cell_type": "code",
   "execution_count": 14,
   "metadata": {
    "collapsed": false
   },
   "outputs": [],
   "source": [
    "n = 1000\n",
    "a = np.arange(n)\n",
    "ac = a[:, np.newaxis]\n",
    "ar = a[np.newaxis, :] #broadcasting does not involve mem cpy"
   ]
  },
  {
   "cell_type": "code",
   "execution_count": 15,
   "metadata": {
    "collapsed": false
   },
   "outputs": [
    {
     "name": "stdout",
     "output_type": "stream",
     "text": [
      "100 loops, best of 3: 12.7 ms per loop\n"
     ]
    }
   ],
   "source": [
    "%timeit np.tile(ac, (1, n)) * np.tile(ar, (n, 1))"
   ]
  },
  {
   "cell_type": "code",
   "execution_count": 16,
   "metadata": {
    "collapsed": false
   },
   "outputs": [
    {
     "name": "stdout",
     "output_type": "stream",
     "text": [
      "100 loops, best of 3: 3.13 ms per loop\n"
     ]
    }
   ],
   "source": [
    "%timeit ar * ac #elemwise product"
   ]
  },
  {
   "cell_type": "markdown",
   "metadata": {},
   "source": [
    "## Selecting elements efficiently"
   ]
  },
  {
   "cell_type": "markdown",
   "metadata": {},
   "source": [
    "NumPy offers multiple ways of selecting slices of arrays:\n",
    "\n",
    "1. Array views refer to the original data buffer of an array, but with different offsets, shapes and strides. They only permit strided selections (i.e. with linearly spaced indices).\n",
    "\n",
    "2. Functions, such as `take` are availanble to make arbitrary selections along one axis. \n",
    "\n",
    "3. Fancy indexing is the most general selection method, but it is also the slowest."
   ]
  },
  {
   "cell_type": "markdown",
   "metadata": {},
   "source": [
    "Suppose we have an array with a large number of rows and we want to select slices from the first dimension."
   ]
  },
  {
   "cell_type": "code",
   "execution_count": 17,
   "metadata": {
    "collapsed": true
   },
   "outputs": [],
   "source": [
    "n, d = 100000, 100\n",
    "a = np.random.random_sample((n, d))"
   ]
  },
  {
   "cell_type": "markdown",
   "metadata": {},
   "source": [
    "First, time how long it takes to select every 10th row using a view:"
   ]
  },
  {
   "cell_type": "code",
   "execution_count": 18,
   "metadata": {
    "collapsed": false
   },
   "outputs": [
    {
     "name": "stdout",
     "output_type": "stream",
     "text": [
      "The slowest run took 18.09 times longer than the fastest. This could mean that an intermediate result is being cached \n",
      "1000000 loops, best of 3: 224 ns per loop\n"
     ]
    }
   ],
   "source": [
    "%timeit b1 = a[::10]"
   ]
  },
  {
   "cell_type": "markdown",
   "metadata": {},
   "source": [
    "<div class=\"alert alert-success\">\n",
    "Using the technique we used previously, check if `b1` is a copy of `a`:\n",
    "</div>"
   ]
  },
  {
   "cell_type": "code",
   "execution_count": 19,
   "metadata": {
    "collapsed": false,
    "deletable": false,
    "nbgrader": {
     "checksum": "5241affeed441127076d04bb2ea72e60",
     "grade": true,
     "grade_id": "numpy_3",
     "locked": false,
     "points": 1,
     "solution": true
    }
   },
   "outputs": [
    {
     "data": {
      "text/plain": [
       "True"
      ]
     },
     "execution_count": 19,
     "metadata": {},
     "output_type": "execute_result"
    }
   ],
   "source": [
    "b1 = a[::10]\n",
    "id(b1) == id(a)"
   ]
  },
  {
   "cell_type": "markdown",
   "metadata": {},
   "source": [
    "Now time how long it takes to select every 10th row using fancy indexing:"
   ]
  },
  {
   "cell_type": "code",
   "execution_count": 20,
   "metadata": {
    "collapsed": false
   },
   "outputs": [
    {
     "name": "stdout",
     "output_type": "stream",
     "text": [
      "100 loops, best of 3: 3.71 ms per loop\n"
     ]
    }
   ],
   "source": [
    "i = np.arange(0,n,10)\n",
    "%timeit b2 = a[i]"
   ]
  },
  {
   "cell_type": "markdown",
   "metadata": {},
   "source": [
    "<div class=\"alert alert-success\">\n",
    "Again, check if `b2` is a copy of `a`:\n",
    "</div>"
   ]
  },
  {
   "cell_type": "code",
   "execution_count": 21,
   "metadata": {
    "collapsed": false,
    "deletable": false,
    "nbgrader": {
     "checksum": "5b4def30b0c75f4c50004b27ffea941b",
     "grade": true,
     "grade_id": "numpy_4",
     "locked": false,
     "points": 1,
     "solution": true
    }
   },
   "outputs": [
    {
     "data": {
      "text/plain": [
       "False"
      ]
     },
     "execution_count": 21,
     "metadata": {},
     "output_type": "execute_result"
    }
   ],
   "source": [
    "b2 = a[i]\n",
    "id(b2) == id(a) #fancy indexing makes a copy for the sliced array"
   ]
  },
  {
   "cell_type": "markdown",
   "metadata": {},
   "source": [
    "It is clear that fancy indexing is significanctly slower than using a view. In some cases it might be faster to use NumPy's `take` method, however this depends on the type of fancy indexing being done."
   ]
  },
  {
   "cell_type": "code",
   "execution_count": 22,
   "metadata": {
    "collapsed": false
   },
   "outputs": [
    {
     "name": "stdout",
     "output_type": "stream",
     "text": [
      "100 loops, best of 3: 4.04 ms per loop\n"
     ]
    }
   ],
   "source": [
    "%timeit b3 = np.take(a, i, axis=0)"
   ]
  },
  {
   "cell_type": "markdown",
   "metadata": {},
   "source": [
    "When the indices to select along one axis are specified by a vector of boolean masks, the function `compress` is an alternative to fancy indexing."
   ]
  },
  {
   "cell_type": "code",
   "execution_count": 23,
   "metadata": {
    "collapsed": true
   },
   "outputs": [],
   "source": [
    "i = np.random.random_sample(n) < .5"
   ]
  },
  {
   "cell_type": "code",
   "execution_count": 24,
   "metadata": {
    "collapsed": false
   },
   "outputs": [
    {
     "name": "stdout",
     "output_type": "stream",
     "text": [
      "100 loops, best of 3: 17.5 ms per loop\n"
     ]
    }
   ],
   "source": [
    "%timeit a[i]"
   ]
  },
  {
   "cell_type": "code",
   "execution_count": 25,
   "metadata": {
    "collapsed": false
   },
   "outputs": [
    {
     "name": "stdout",
     "output_type": "stream",
     "text": [
      "The slowest run took 4.35 times longer than the fastest. This could mean that an intermediate result is being cached \n",
      "10 loops, best of 3: 18 ms per loop\n"
     ]
    }
   ],
   "source": [
    "%timeit np.compress(i, a, axis=0)"
   ]
  },
  {
   "cell_type": "markdown",
   "metadata": {},
   "source": [
    "This method is also faster than fancy indexing.\n",
    "\n",
    "Fancy indexing is the most general way of making completely arbitrary selections of an array. However, more specific and faster methods often exist and should be preferred when possible."
   ]
  },
  {
   "cell_type": "markdown",
   "metadata": {},
   "source": [
    "## Using what you have learned"
   ]
  },
  {
   "cell_type": "markdown",
   "metadata": {},
   "source": [
    "Suppose we want to write a function to remove the i-th row and j-th column from a 2d array. The simplistic way to do this would be as follows:"
   ]
  },
  {
   "cell_type": "code",
   "execution_count": 26,
   "metadata": {
    "collapsed": true
   },
   "outputs": [],
   "source": [
    "import numpy as np\n",
    "\n",
    "def remove_ij(x, i, j):\n",
    "    \n",
    "    # Remove the ith row\n",
    "    idx = range(x.shape[0])\n",
    "    idx.remove(i)\n",
    "    x = x[idx,:]\n",
    "\n",
    "    # Remove the jth column\n",
    "    idx = range(x.shape[1])\n",
    "    idx.remove(j)\n",
    "    x = x[:,idx]\n",
    "    \n",
    "    return x"
   ]
  },
  {
   "cell_type": "markdown",
   "metadata": {},
   "source": [
    "Let's try removing a row and column from a large array:"
   ]
  },
  {
   "cell_type": "code",
   "execution_count": 27,
   "metadata": {
    "collapsed": false
   },
   "outputs": [
    {
     "name": "stdout",
     "output_type": "stream",
     "text": [
      "The slowest run took 5.09 times longer than the fastest. This could mean that an intermediate result is being cached \n",
      "1000 loops, best of 3: 904 µs per loop\n"
     ]
    }
   ],
   "source": [
    "big_array = np.ones((500,500))\n",
    "%timeit remove_ij(big_array, 345, 276)"
   ]
  },
  {
   "cell_type": "markdown",
   "metadata": {
    "nbgrader": {
     "grade": false,
     "locked": false,
     "solution": false
    }
   },
   "source": [
    "<div class=\"alert alert-success\">\n",
    "Now try modifiying the remove_ij array to use *array slicing* rather than the `remove` function.\n",
    "</div>"
   ]
  },
  {
   "cell_type": "code",
   "execution_count": 28,
   "metadata": {
    "collapsed": false,
    "deletable": false,
    "nbgrader": {
     "checksum": "4543201c969390c924266572a7f67ade",
     "grade": false,
     "grade_id": "numpy_5",
     "locked": false,
     "solution": true
    }
   },
   "outputs": [],
   "source": [
    "def faster_remove_ij(x, i, j):\n",
    "    x = np.delete(np.delete(x,j,1),i,0) #view based operation\n",
    "    return x"
   ]
  },
  {
   "cell_type": "code",
   "execution_count": 29,
   "metadata": {
    "collapsed": false,
    "deletable": false,
    "nbgrader": {
     "checksum": "7019ef38480a751cb39f34d5a5b4490c",
     "grade": true,
     "grade_id": "numpy_6",
     "locked": true,
     "points": 5,
     "solution": false
    }
   },
   "outputs": [
    {
     "name": "stdout",
     "output_type": "stream",
     "text": [
      "5.910545 should be less than 10.404120\n"
     ]
    }
   ],
   "source": [
    "from nose.tools import assert_equal, assert_less\n",
    "import timeit\n",
    "\n",
    "big_array1 = np.ones((500,500))\n",
    "big_array2 = np.ones((500,500))\n",
    "row = 450\n",
    "col = 222\n",
    "\n",
    "def slow_remove():\n",
    "    remove_ij(big_array1, row, col)\n",
    "\n",
    "def fast_remove():\n",
    "    faster_remove_ij(big_array2, row, col)\n",
    "\n",
    "slow_time = timeit.timeit(slow_remove, number=10000)\n",
    "fast_time = timeit.timeit(fast_remove, number=10000)\n",
    "print \"%f should be less than %f\" % (fast_time, slow_time)\n",
    "assert_less(fast_time, slow_time)"
   ]
  }
 ],
 "metadata": {
  "kernelspec": {
   "display_name": "Python 2",
   "language": "python",
   "name": "python2"
  },
  "language_info": {
   "codemirror_mode": {
    "name": "ipython",
    "version": 2
   },
   "file_extension": ".py",
   "mimetype": "text/x-python",
   "name": "python",
   "nbconvert_exporter": "python",
   "pygments_lexer": "ipython2",
   "version": "2.7.11"
  }
 },
 "nbformat": 4,
 "nbformat_minor": 0
}
