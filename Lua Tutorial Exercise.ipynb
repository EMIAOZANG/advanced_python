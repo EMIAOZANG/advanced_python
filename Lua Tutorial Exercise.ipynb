{
 "cells": [
  {
   "cell_type": "code",
   "execution_count": 1,
   "metadata": {
    "collapsed": true
   },
   "outputs": [],
   "source": [
    "require 'torch'\n",
    "require 'image'\n",
    "require 'nn'"
   ]
  },
  {
   "cell_type": "code",
   "execution_count": 7,
   "metadata": {
    "collapsed": true
   },
   "outputs": [],
   "source": [
    "data_path = '../ds-ga-1008-a1/mnist.t7'\n",
    "train_file = paths.concat(data_path, 'train_32x32.t7')\n",
    "test_file = paths.concat(data_path, 'test_32x32.t7')"
   ]
  },
  {
   "cell_type": "code",
   "execution_count": 8,
   "metadata": {
    "collapsed": true
   },
   "outputs": [],
   "source": [
    "trsize = 4000\n",
    "tesize = 1000\n",
    "valsize = 2000"
   ]
  },
  {
   "cell_type": "code",
   "execution_count": 9,
   "metadata": {
    "collapsed": false
   },
   "outputs": [
    {
     "ename": "[string \"loaded = torch.load(train_file,'ascii')...\"]:2: '=' expected near 'loaded'",
     "evalue": "",
     "output_type": "error",
     "traceback": [
      "[string \"loaded = torch.load(train_file,'ascii')...\"]:2: '=' expected near 'loaded'"
     ]
    }
   ],
   "source": [
    "loaded = torch.load(train_file,'ascii')\n",
    "print loaded:size()"
   ]
  },
  {
   "cell_type": "code",
   "execution_count": 10,
   "metadata": {
    "collapsed": false
   },
   "outputs": [],
   "source": [
    "loaded = torch.load(train_file,'ascii')"
   ]
  },
  {
   "cell_type": "code",
   "execution_count": 11,
   "metadata": {
    "collapsed": false
   },
   "outputs": [],
   "source": [
    "loaded = torch.load(test_file,'ascii')"
   ]
  },
  {
   "cell_type": "code",
   "execution_count": 12,
   "metadata": {
    "collapsed": false
   },
   "outputs": [
    {
     "ename": "[string \"print loaded:size()...\"]:1: '=' expected near 'loaded'",
     "evalue": "",
     "output_type": "error",
     "traceback": [
      "[string \"print loaded:size()...\"]:1: '=' expected near 'loaded'"
     ]
    }
   ],
   "source": [
    "print loaded:size()"
   ]
  },
  {
   "cell_type": "code",
   "execution_count": 14,
   "metadata": {
    "collapsed": false
   },
   "outputs": [
    {
     "ename": "[string \"print(loaded:size())...\"]:1: attempt to call method 'size' (a nil value)\nstack traceback:\n\t[string \"print(loaded:size())...\"]:1: in main chunk\n\t[C]: in function 'xpcall'\n\t...uchristopher/torch/install/share/lua/5.1/itorch/main.lua:179: in function <...uchristopher/torch/install/share/lua/5.1/itorch/main.lua:143>\n\t...uchristopher/torch/install/share/lua/5.1/lzmq/poller.lua:75: in function 'poll'\n\t...ristopher/torch/install/share/lua/5.1/lzmq/impl/loop.lua:307: in function 'poll'\n\t...ristopher/torch/install/share/lua/5.1/lzmq/impl/loop.lua:325: in function 'sleep_ex'\n\t...ristopher/torch/install/share/lua/5.1/lzmq/impl/loop.lua:370: in function 'start'\n\t...uchristopher/torch/install/share/lua/5.1/itorch/main.lua:350: in main chunk\n\t[C]: in function 'require'\n\t(command line):1: in main chunk\n\t[C]: at 0x010665bbb0",
     "evalue": "",
     "output_type": "error",
     "traceback": [
      "[string \"print(loaded:size())...\"]:1: attempt to call method 'size' (a nil value)\nstack traceback:\n\t[string \"print(loaded:size())...\"]:1: in main chunk\n\t[C]: in function 'xpcall'\n\t...uchristopher/torch/install/share/lua/5.1/itorch/main.lua:179: in function <...uchristopher/torch/install/share/lua/5.1/itorch/main.lua:143>\n\t...uchristopher/torch/install/share/lua/5.1/lzmq/poller.lua:75: in function 'poll'\n\t...ristopher/torch/install/share/lua/5.1/lzmq/impl/loop.lua:307: in function 'poll'\n\t...ristopher/torch/install/share/lua/5.1/lzmq/impl/loop.lua:325: in function 'sleep_ex'\n\t...ristopher/torch/install/share/lua/5.1/lzmq/impl/loop.lua:370: in function 'start'\n\t...uchristopher/torch/install/share/lua/5.1/itorch/main.lua:350: in main chunk\n\t[C]: in function 'require'\n\t(command line):1: in main chunk\n\t[C]: at 0x010665bbb0"
     ]
    }
   ],
   "source": [
    "print(loaded:size())"
   ]
  },
  {
   "cell_type": "code",
   "execution_count": 15,
   "metadata": {
    "collapsed": false
   },
   "outputs": [
    {
     "data": {
      "text/plain": [
       "{\n"
      ]
     },
     "execution_count": 15,
     "metadata": {},
     "output_type": "execute_result"
    },
    {
     "data": {
      "text/plain": [
       "  data : ByteTensor - size: 10000x1x32x32\n",
       "  labels : ByteTensor - size: 10000\n",
       "}\n"
      ]
     },
     "execution_count": 15,
     "metadata": {},
     "output_type": "execute_result"
    }
   ],
   "source": [
    "print(loaded)"
   ]
  },
  {
   "cell_type": "code",
   "execution_count": 31,
   "metadata": {
    "collapsed": false
   },
   "outputs": [],
   "source": [
    "trainData = {\n",
    "    data = loaded.data[{ {trsize+1,trsize+valsize}}],\n",
    "    labels = loaded.data[{ {trsize+1,trsize+valsize} }],\n",
    "    size = valsize\n",
    "}"
   ]
  },
  {
   "cell_type": "code",
   "execution_count": 24,
   "metadata": {
    "collapsed": false
   },
   "outputs": [
    {
     "data": {
      "text/plain": [
       "{\n",
       "  data : ByteTensor - size: 2000x1x32x32\n",
       "  size : 2000\n",
       "  labels : ByteTensor - size: 2000x1x32x32\n",
       "}\n"
      ]
     },
     "execution_count": 24,
     "metadata": {},
     "output_type": "execute_result"
    }
   ],
   "source": [
    "print(trainData)"
   ]
  },
  {
   "cell_type": "code",
   "execution_count": 29,
   "metadata": {
    "collapsed": false
   },
   "outputs": [
    {
     "data": {
      "text/plain": [
       "nil\t\n"
      ]
     },
     "execution_count": 29,
     "metadata": {},
     "output_type": "execute_result"
    }
   ],
   "source": [
    "print(trainData.data)"
   ]
  },
  {
   "cell_type": "code",
   "execution_count": 33,
   "metadata": {
    "collapsed": false
   },
   "outputs": [
    {
     "data": {
      "text/plain": [
       "{\n",
       "  data : ByteTensor - size: 2000x1x32x32\n",
       "  size : 2000\n",
       "  labels : ByteTensor - size: 2000x1x32x32\n",
       "}\n"
      ]
     },
     "execution_count": 33,
     "metadata": {},
     "output_type": "execute_result"
    }
   ],
   "source": [
    "print(trainData)"
   ]
  },
  {
   "cell_type": "code",
   "execution_count": 34,
   "metadata": {
    "collapsed": false
   },
   "outputs": [
    {
     "data": {
      "text/plain": [
       "2000\t\n"
      ]
     },
     "execution_count": 34,
     "metadata": {},
     "output_type": "execute_result"
    }
   ],
   "source": [
    "print(trainData.data:size(1))"
   ]
  }
 ],
 "metadata": {
  "kernelspec": {
   "display_name": "iTorch",
   "language": "lua",
   "name": "itorch"
  },
  "language_info": {
   "name": "lua",
   "version": "20100"
  }
 },
 "nbformat": 4,
 "nbformat_minor": 0
}
