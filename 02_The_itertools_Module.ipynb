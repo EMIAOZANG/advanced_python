{
 "cells": [
  {
   "cell_type": "markdown",
   "metadata": {},
   "source": [
    "# DS-GA-3001 Advanced Python for Data Science"
   ]
  },
  {
   "cell_type": "markdown",
   "metadata": {
    "nbgrader": {
     "grade": false,
     "solution": false
    }
   },
   "source": [
    "Before you turn this problem in, make sure you **restart the kernel** (in the menubar, select Kernel$\\rightarrow$Restart). You can then either run all cells (in the menubar, select Cell$\\rightarrow$Run All), or run each cell individually, **in order**, during the class.\n",
    "\n",
    "Any textual answers that need to be provided will be marked with \"YOUR ANSWER HERE\". Replace this text with your answer to the question.\n",
    "\n",
    "Any code answers that need to be provided will be marked with:\n",
    "\n",
    "```\n",
    "# YOUR CODE HERE\n",
    "raise NotImplementedError()\n",
    "```\n",
    "\n",
    "Replace all this code with your answer to the question. If you do not answer the question, the `NotImplementedError` exception will be raised, which will indicate to the grader that no answer has been supplied.\n",
    "\n",
    "In many cases, code answers will also have some associated test code. You should execute the tests after you have entered your code in order to ensure that your answer is correct. You should not proceed to the next question until your answer is correct.\n",
    "\n",
    "Finally, insert your name and any collaborators in the cell below."
   ]
  },
  {
   "cell_type": "code",
   "execution_count": 1,
   "metadata": {
    "collapsed": false,
    "nbgrader": {
     "grade": false,
     "solution": false
    }
   },
   "outputs": [],
   "source": [
    "NAME = \"Jiayi Lu (jl6583)\" \n",
    "COLLABORATORS = \"\""
   ]
  },
  {
   "cell_type": "markdown",
   "metadata": {
    "nbgrader": {
     "grade": false,
     "solution": false
    }
   },
   "source": [
    "---"
   ]
  },
  {
   "cell_type": "markdown",
   "metadata": {},
   "source": [
    "# The `itertools` module"
   ]
  },
  {
   "cell_type": "markdown",
   "metadata": {},
   "source": [
    "The [`itertools`](https://docs.python.org/2/library/itertools.html) module implements a number of iterator building blocks that provide a set of fast, memory efficient tools. These building blocks can be used to form an “iterator algebra” making it possible to construct specialized tools succinctly and efficiently in pure Python.\n",
    "\n",
    "Iterator-based code may be preferred over code which uses lists for several reasons. Since data is not produced from the iterator until it is needed, all of the data is not stored in memory at the same time. Reducing memory usage can reduce swapping and other side-effects of large data sets, increasing performance."
   ]
  },
  {
   "cell_type": "markdown",
   "metadata": {},
   "source": [
    "## Merging and splitting iterators"
   ]
  },
  {
   "cell_type": "markdown",
   "metadata": {},
   "source": [
    "The [`chain()`](https://docs.python.org/2/library/itertools.html#itertools.chain) function takes several iterators as arguments and returns a single iterator that produces the contents of all of them as though they came from a single sequence."
   ]
  },
  {
   "cell_type": "code",
   "execution_count": 2,
   "metadata": {
    "collapsed": false,
    "deletable": false,
    "nbgrader": {
     "checksum": "5eb2790cbdcfaecf53a9d867fb85e46e",
     "grade": false,
     "grade_id": "itertools_1",
     "locked": true,
     "solution": false
    }
   },
   "outputs": [
    {
     "name": "stdout",
     "output_type": "stream",
     "text": [
      "1\n",
      "2\n",
      "3\n",
      "a\n",
      "b\n",
      "c\n"
     ]
    }
   ],
   "source": [
    "from itertools import *\n",
    "\n",
    "for i in chain([1, 2, 3], ['a', 'b', 'c']):\n",
    "    print i"
   ]
  },
  {
   "cell_type": "markdown",
   "metadata": {},
   "source": [
    "The [`izip()`](https://docs.python.org/2/library/itertools.html#itertools.izip) returns an iterator that combines the elements of several iterators into tuples. It works like the built-in function `zip()`, except that it returns an iterator instead of a list."
   ]
  },
  {
   "cell_type": "code",
   "execution_count": 3,
   "metadata": {
    "collapsed": false,
    "deletable": false,
    "nbgrader": {
     "checksum": "ccf043dbbc7c0845bd7f9bced55cc4b2",
     "grade": false,
     "grade_id": "itertools_2",
     "locked": true,
     "solution": false
    }
   },
   "outputs": [
    {
     "name": "stdout",
     "output_type": "stream",
     "text": [
      "(1, 'a')\n",
      "(2, 'b')\n",
      "(3, 'c')\n"
     ]
    }
   ],
   "source": [
    "from itertools import *\n",
    "\n",
    "for i in izip([1, 2, 3], ['a', 'b', 'c']):\n",
    "    print i"
   ]
  },
  {
   "cell_type": "markdown",
   "metadata": {},
   "source": [
    "The [`islice()`](https://docs.python.org/2/library/itertools.html#itertools.islice) function returns an iterator which returns selected items from the input iterator, by index. It takes the same arguments as the slice operator for lists: start, stop, and step. The start and step arguments are optional."
   ]
  },
  {
   "cell_type": "code",
   "execution_count": 4,
   "metadata": {
    "collapsed": false,
    "deletable": false,
    "nbgrader": {
     "checksum": "40e2c04ef10dfe966aaaccc7e796324b",
     "grade": false,
     "grade_id": "itertools_3",
     "locked": true,
     "solution": false
    }
   },
   "outputs": [
    {
     "name": "stdout",
     "output_type": "stream",
     "text": [
      "Stop at 5:\n",
      "0\n",
      "1\n",
      "2\n",
      "3\n",
      "4\n",
      "Start at 5, Stop at 10:\n",
      "5\n",
      "6\n",
      "7\n",
      "8\n",
      "9\n",
      "By tens to 100:\n",
      "0\n",
      "10\n",
      "20\n",
      "30\n",
      "40\n",
      "50\n",
      "60\n",
      "70\n",
      "80\n",
      "90\n"
     ]
    }
   ],
   "source": [
    "from itertools import *\n",
    "\n",
    "print 'Stop at 5:'\n",
    "for i in islice(count(), 5):\n",
    "    print i\n",
    "\n",
    "print 'Start at 5, Stop at 10:'\n",
    "for i in islice(count(), 5, 10):\n",
    "    print i\n",
    "\n",
    "print 'By tens to 100:'\n",
    "for i in islice(count(), 0, 100, 10):\n",
    "    print i"
   ]
  },
  {
   "cell_type": "markdown",
   "metadata": {},
   "source": [
    "The [`tee()`](https://docs.python.org/2/library/itertools.html#itertools.tee) function returns several independent iterators (defaults to 2) based on a single original input. It has semantics similar to the Unix tee utility, which repeats the values it reads from its input and writes them to a named file and standard output."
   ]
  },
  {
   "cell_type": "code",
   "execution_count": 5,
   "metadata": {
    "collapsed": false,
    "deletable": false,
    "nbgrader": {
     "checksum": "37a34068bdebc4c28b192c3c135803ed",
     "grade": false,
     "grade_id": "itertools_4",
     "locked": true,
     "solution": false
    }
   },
   "outputs": [
    {
     "name": "stdout",
     "output_type": "stream",
     "text": [
      "i1: 0\n",
      "i1: 1\n",
      "i1: 2\n",
      "i1: 3\n",
      "i1: 4\n",
      "i2: 0\n",
      "i2: 1\n",
      "i2: 2\n",
      "i2: 3\n",
      "i2: 4\n"
     ]
    }
   ],
   "source": [
    "from itertools import *\n",
    "\n",
    "r = islice(count(), 5)\n",
    "i1, i2 = tee(r)\n",
    "\n",
    "for i in i1:\n",
    "    print 'i1:', i\n",
    "for i in i2:\n",
    "    print 'i2:', i"
   ]
  },
  {
   "cell_type": "markdown",
   "metadata": {},
   "source": [
    "## Converting inputs"
   ]
  },
  {
   "cell_type": "markdown",
   "metadata": {},
   "source": [
    "The [`imap()`](https://docs.python.org/2/library/itertools.html#itertools.imap) function returns an iterator that calls a function on the values in the input iterators, and returns the results. It works like the built-in `map()`, except that it stops when any input iterator is exhausted (instead of inserting `None` values to completely consume all of the inputs).\n",
    "\n",
    "In the first example, the lambda function multiplies the input values by 2. In a second example, the lambda function multiplies 2 arguments, taken from separate iterators, and returns a tuple with the original arguments and the computed value."
   ]
  },
  {
   "cell_type": "code",
   "execution_count": 6,
   "metadata": {
    "collapsed": false,
    "deletable": false,
    "nbgrader": {
     "checksum": "eb8dbb5f8e749b13ce5c122c7bbc5eb5",
     "grade": false,
     "grade_id": "itertools_5",
     "locked": true,
     "solution": false
    }
   },
   "outputs": [
    {
     "name": "stdout",
     "output_type": "stream",
     "text": [
      "Doubles:\n",
      "0\n",
      "2\n",
      "4\n",
      "6\n",
      "8\n",
      "Multiples:\n",
      "0 * 5 = 0\n",
      "1 * 6 = 6\n",
      "2 * 7 = 14\n",
      "3 * 8 = 24\n",
      "4 * 9 = 36\n"
     ]
    }
   ],
   "source": [
    "from itertools import *\n",
    "\n",
    "print 'Doubles:'\n",
    "for i in imap(lambda x:2*x, xrange(5)):\n",
    "    print i\n",
    "\n",
    "print 'Multiples:'\n",
    "for i in imap(lambda x,y:(x, y, x*y), xrange(5), xrange(5,10)): #This stops when any of the iterators are exhausted\n",
    "    print '%d * %d = %d' % i"
   ]
  },
  {
   "cell_type": "markdown",
   "metadata": {},
   "source": [
    "The [`starmap()`](https://docs.python.org/2/library/itertools.html#itertools.starmap) function is similar to `imap()`, but instead of constructing a tuple from multiple iterators it splits up the items in a single iterator as arguments to the mapping function using the `*` syntax. Where the mapping function to `imap()` is called `f(i1, i2)`, the mapping function to `starmap()` is called `f(*i)`."
   ]
  },
  {
   "cell_type": "code",
   "execution_count": 7,
   "metadata": {
    "collapsed": false,
    "deletable": false,
    "nbgrader": {
     "checksum": "cdb5f1fca1fa3c352409e421ccb549e6",
     "grade": false,
     "grade_id": "itertools_6",
     "locked": true,
     "solution": false
    }
   },
   "outputs": [
    {
     "name": "stdout",
     "output_type": "stream",
     "text": [
      "0 * 5 = 0\n",
      "1 * 6 = 6\n",
      "2 * 7 = 14\n",
      "3 * 8 = 24\n",
      "4 * 9 = 36\n"
     ]
    }
   ],
   "source": [
    "from itertools import *\n",
    "\n",
    "values = [(0, 5), (1, 6), (2, 7), (3, 8), (4, 9)]\n",
    "for i in starmap(lambda x,y:(x, y, x*y), values):\n",
    "    print '%d * %d = %d' % i"
   ]
  },
  {
   "cell_type": "markdown",
   "metadata": {},
   "source": [
    "## Producing new values"
   ]
  },
  {
   "cell_type": "markdown",
   "metadata": {},
   "source": [
    "The [`count()`](https://docs.python.org/2/library/itertools.html#itertools.count) function returns an interator that produces consecutive integers, indefinitely. The first number can be passed as an argument, the default is zero. There is no upper bound argument (see the built-in `xrange()` for more control over the result set). In this example, the iteration stops because the list argument is consumed."
   ]
  },
  {
   "cell_type": "code",
   "execution_count": 8,
   "metadata": {
    "collapsed": false,
    "deletable": false,
    "nbgrader": {
     "checksum": "c0a1182da876eb05c4fa0b3bdb3b4258",
     "grade": false,
     "grade_id": "itertools_7",
     "locked": true,
     "solution": false
    }
   },
   "outputs": [
    {
     "name": "stdout",
     "output_type": "stream",
     "text": [
      "(1, 'a')\n",
      "(2, 'b')\n",
      "(3, 'c')\n"
     ]
    }
   ],
   "source": [
    "from itertools import *\n",
    "\n",
    "for i in izip(count(1), ['a', 'b', 'c']): #stops when one iterable is consumed\n",
    "    print i"
   ]
  },
  {
   "cell_type": "markdown",
   "metadata": {},
   "source": [
    "The [`cycle()`](https://docs.python.org/2/library/itertools.html#itertools.cycle) function returns an iterator that repeats the contents of the arguments it is given indefinitely. Since it has to remember the entire contents of the input iterator, it may consume quite a bit of memory if the iterator is long. In this example, a counter variable is used to break out of the loop after a few cycles."
   ]
  },
  {
   "cell_type": "code",
   "execution_count": 9,
   "metadata": {
    "collapsed": false,
    "deletable": false,
    "nbgrader": {
     "checksum": "08beca4ded0ad9fc6dcc76e3a8f124c5",
     "grade": false,
     "grade_id": "itertools_8",
     "locked": true,
     "solution": false
    }
   },
   "outputs": [
    {
     "name": "stdout",
     "output_type": "stream",
     "text": [
      "(1, 'a')\n",
      "(2, 'b')\n",
      "(3, 'c')\n",
      "(4, 'a')\n",
      "(5, 'b')\n",
      "(6, 'c')\n",
      "(7, 'a')\n",
      "(8, 'b')\n",
      "(9, 'c')\n"
     ]
    }
   ],
   "source": [
    "from itertools import *\n",
    "\n",
    "i = 0\n",
    "for item in cycle(['a', 'b', 'c']):\n",
    "    i += 1\n",
    "    if i == 10:\n",
    "        break\n",
    "    print (i, item)"
   ]
  },
  {
   "cell_type": "markdown",
   "metadata": {},
   "source": [
    "The [`repeat()`](https://docs.python.org/2/library/itertools.html#itertools.repeat) function returns an iterator that produces the same value each time it is accessed. It keeps going forever, unless the optional times argument is provided to limit it."
   ]
  },
  {
   "cell_type": "code",
   "execution_count": 10,
   "metadata": {
    "collapsed": false,
    "deletable": false,
    "nbgrader": {
     "checksum": "e9eb8f10ad1f890c815c148c30e0da0d",
     "grade": false,
     "grade_id": "itertools_9",
     "locked": true,
     "solution": false
    }
   },
   "outputs": [
    {
     "name": "stdout",
     "output_type": "stream",
     "text": [
      "over-and-over\n",
      "over-and-over\n",
      "over-and-over\n",
      "over-and-over\n",
      "over-and-over\n"
     ]
    }
   ],
   "source": [
    "from itertools import *\n",
    "\n",
    "for i in repeat('over-and-over', 5): #cycle through arguments\n",
    "    print i"
   ]
  },
  {
   "cell_type": "markdown",
   "metadata": {},
   "source": [
    "It is useful to combine `repeat()` with `izip()` or `imap()` when invariant values need to be included with the values from the other iterators."
   ]
  },
  {
   "cell_type": "code",
   "execution_count": 11,
   "metadata": {
    "collapsed": false,
    "deletable": false,
    "nbgrader": {
     "checksum": "a56a0807360b5c3925f5f44f31d8f7da",
     "grade": false,
     "grade_id": "itertools_10",
     "locked": true,
     "solution": false
    }
   },
   "outputs": [
    {
     "name": "stdout",
     "output_type": "stream",
     "text": [
      "2 * 0 = 0\n",
      "2 * 1 = 2\n",
      "2 * 2 = 4\n",
      "2 * 3 = 6\n",
      "2 * 4 = 8\n"
     ]
    }
   ],
   "source": [
    "from itertools import *\n",
    "\n",
    "for i in imap(lambda x,y:(x, y, x*y), repeat(2), xrange(5)):\n",
    "    print '%d * %d = %d' % i"
   ]
  },
  {
   "cell_type": "markdown",
   "metadata": {},
   "source": [
    "## Filtering"
   ]
  },
  {
   "cell_type": "markdown",
   "metadata": {},
   "source": [
    "The [`dropwhile()`](https://docs.python.org/2/library/itertools.html#itertools.dropwhile) function returns an iterator that returns elements of the input iterator after a condition becomes false for the first time. It does not filter every item of the input; after the condition is false the first time, all of the remaining items in the input are returned."
   ]
  },
  {
   "cell_type": "code",
   "execution_count": 12,
   "metadata": {
    "collapsed": false,
    "deletable": false,
    "nbgrader": {
     "checksum": "e223d4cbaf3bd36f33f45917b26d6293",
     "grade": false,
     "grade_id": "itertools_11",
     "locked": true,
     "solution": false
    }
   },
   "outputs": [
    {
     "name": "stdout",
     "output_type": "stream",
     "text": [
      "Testing: -1\n",
      "Testing: 0\n",
      "Testing: 1\n",
      "Yielding: 1\n",
      "Yielding: 2\n",
      "Yielding: 3\n",
      "Yielding: 4\n",
      "Yielding: 1\n",
      "Yielding: -2\n"
     ]
    }
   ],
   "source": [
    "from itertools import *\n",
    "\n",
    "def should_drop(x):\n",
    "    print 'Testing:', x\n",
    "    return (x<1)\n",
    "\n",
    "for i in dropwhile(should_drop, [ -1, 0, 1, 2, 3, 4, 1, -2 ]): #it dumps the rest once condition is broken\n",
    "    print 'Yielding:', i"
   ]
  },
  {
   "cell_type": "markdown",
   "metadata": {},
   "source": [
    "The opposite of `dropwhile()`, [`takewhile()`](https://docs.python.org/2/library/itertools.html#itertools.takewhile) returns an iterator that returns items from the input iterator as long as the test function returns true."
   ]
  },
  {
   "cell_type": "code",
   "execution_count": 13,
   "metadata": {
    "collapsed": false,
    "deletable": false,
    "nbgrader": {
     "checksum": "c5eae8b577d25f4bb0dc4a8c181d5c52",
     "grade": false,
     "grade_id": "itertools_12",
     "locked": true,
     "solution": false
    }
   },
   "outputs": [
    {
     "name": "stdout",
     "output_type": "stream",
     "text": [
      "Testing: -1\n",
      "Yielding: -1\n",
      "Testing: 0\n",
      "Yielding: 0\n",
      "Testing: 1\n",
      "Yielding: 1\n",
      "Testing: 2\n"
     ]
    }
   ],
   "source": [
    "from itertools import *\n",
    "\n",
    "def should_take(x):\n",
    "    print 'Testing:', x\n",
    "    return (x<2)\n",
    "\n",
    "for i in takewhile(should_take, [ -1, 0, 1, 2, 3, 4, 1, -2 ]): #as long as the condicition statisfied\n",
    "    print 'Yielding:', i"
   ]
  },
  {
   "cell_type": "markdown",
   "metadata": {
    "collapsed": true
   },
   "source": [
    "[`ifilter()`](https://docs.python.org/2/library/itertools.html#itertools.ifilter) returns an iterator that works like the built-in `filter()` does for lists, including only items for which the test function returns true. It is different from `dropwhile()` in that every item is tested before it is returned."
   ]
  },
  {
   "cell_type": "code",
   "execution_count": 14,
   "metadata": {
    "collapsed": false,
    "deletable": false,
    "nbgrader": {
     "checksum": "66243856a281b7c3ce98b792846a631f",
     "grade": false,
     "grade_id": "itertools_13",
     "locked": true,
     "solution": false
    }
   },
   "outputs": [
    {
     "name": "stdout",
     "output_type": "stream",
     "text": [
      "Testing: -1\n",
      "Yielding: -1\n",
      "Testing: 0\n",
      "Yielding: 0\n",
      "Testing: 1\n",
      "Testing: 2\n",
      "Testing: 3\n",
      "Testing: 4\n",
      "Testing: 1\n",
      "Testing: -2\n",
      "Yielding: -2\n"
     ]
    }
   ],
   "source": [
    "from itertools import *\n",
    "\n",
    "def check_item(x):\n",
    "    print 'Testing:', x\n",
    "    return (x<1)\n",
    "\n",
    "for i in ifilter(check_item, [ -1, 0, 1, 2, 3, 4, 1, -2 ]): #every element is tested\n",
    "    print 'Yielding:', i"
   ]
  },
  {
   "cell_type": "markdown",
   "metadata": {},
   "source": [
    "The opposite of `ifilter()`, [`ifilterfalse()`](https://docs.python.org/2/library/itertools.html#itertools.ifilterfalse) returns an iterator that includes only items where the test function returns false."
   ]
  },
  {
   "cell_type": "code",
   "execution_count": 15,
   "metadata": {
    "collapsed": false,
    "deletable": false,
    "nbgrader": {
     "checksum": "4b848bbf35803317cae706e6c19334af",
     "grade": false,
     "grade_id": "itertools_14",
     "locked": true,
     "solution": false
    }
   },
   "outputs": [
    {
     "name": "stdout",
     "output_type": "stream",
     "text": [
      "Testing: -1\n",
      "Testing: 0\n",
      "Testing: 1\n",
      "Yielding: 1\n",
      "Testing: 2\n",
      "Yielding: 2\n",
      "Testing: 3\n",
      "Yielding: 3\n",
      "Testing: 4\n",
      "Yielding: 4\n",
      "Testing: 1\n",
      "Yielding: 1\n",
      "Testing: -2\n"
     ]
    }
   ],
   "source": [
    "from itertools import *\n",
    "\n",
    "def check_item(x):\n",
    "    print 'Testing:', x\n",
    "    return (x<1)\n",
    "\n",
    "for i in ifilterfalse(check_item, [ -1, 0, 1, 2, 3, 4, 1, -2 ]):\n",
    "    print 'Yielding:', i"
   ]
  },
  {
   "cell_type": "markdown",
   "metadata": {},
   "source": [
    "## Grouping Data"
   ]
  },
  {
   "cell_type": "markdown",
   "metadata": {},
   "source": [
    "The [`groupby()`](https://docs.python.org/2/library/itertools.html#itertools.groupby) function returns an iterator that produces sets of values grouped by a common key.\n",
    "\n",
    "This example from the standard library documentation shows how to group keys in a dictionary which have the same value:"
   ]
  },
  {
   "cell_type": "code",
   "execution_count": 16,
   "metadata": {
    "collapsed": false,
    "deletable": false,
    "nbgrader": {
     "checksum": "fb4fa58c699f57ce5f8a689c16c9285d",
     "grade": false,
     "grade_id": "itertools_15",
     "locked": true,
     "solution": false
    }
   },
   "outputs": [
    {
     "name": "stdout",
     "output_type": "stream",
     "text": [
      "1 ['a', 'c', 'e']\n",
      "2 ['b', 'd', 'f']\n",
      "3 ['g']\n"
     ]
    }
   ],
   "source": [
    "from itertools import *\n",
    "from operator import itemgetter\n",
    "\n",
    "d = dict(a=1, b=2, c=1, d=2, e=1, f=2, g=3)\n",
    "di = sorted(d.iteritems(), key=itemgetter(1))\n",
    "for k, g in groupby(di, key=itemgetter(1)):\n",
    "    print k, map(itemgetter(0), g)"
   ]
  },
  {
   "cell_type": "markdown",
   "metadata": {},
   "source": [
    "This more complicated example illustrates grouping related values based on some attribute. Notice that the input sequence needs to be sorted on the key in order for the groupings to work out as expected."
   ]
  },
  {
   "cell_type": "code",
   "execution_count": 17,
   "metadata": {
    "collapsed": false,
    "deletable": false,
    "nbgrader": {
     "checksum": "47636fb046c026a47149ced48caa5d84",
     "grade": false,
     "grade_id": "itertools_16",
     "locked": true,
     "solution": false
    }
   },
   "outputs": [
    {
     "name": "stdout",
     "output_type": "stream",
     "text": [
      "Data: [Point(0, 0), Point(1, 1), Point(2, 2), Point(0, 3), Point(1, 4), Point(2, 5), Point(0, 6), Point(1, 7), Point(2, 8), Point(0, 9)]\n",
      "\n",
      "Grouped, unsorted:\n",
      "0 [Point(0, 0)]\n",
      "1 [Point(1, 1)]\n",
      "2 [Point(2, 2)]\n",
      "0 [Point(0, 3)]\n",
      "1 [Point(1, 4)]\n",
      "2 [Point(2, 5)]\n",
      "0 [Point(0, 6)]\n",
      "1 [Point(1, 7)]\n",
      "2 [Point(2, 8)]\n",
      "0 [Point(0, 9)]\n",
      "\n",
      "Sorted: [Point(0, 0), Point(0, 3), Point(0, 6), Point(0, 9), Point(1, 1), Point(1, 4), Point(1, 7), Point(2, 2), Point(2, 5), Point(2, 8)]\n",
      "\n",
      "Grouped, sorted:\n",
      "0 [Point(0, 0), Point(0, 3), Point(0, 6), Point(0, 9)]\n",
      "1 [Point(1, 1), Point(1, 4), Point(1, 7)]\n",
      "2 [Point(2, 2), Point(2, 5), Point(2, 8)]\n",
      "\n"
     ]
    }
   ],
   "source": [
    "from itertools import *\n",
    "\n",
    "class Point:\n",
    "    def __init__(self, x, y):\n",
    "        self.x = x\n",
    "        self.y = y\n",
    "    def __repr__(self):\n",
    "        return 'Point(%s, %s)' % (self.x, self.y)\n",
    "    def __cmp__(self, other):\n",
    "        return cmp((self.x, self.y), (other.x, other.y))\n",
    "\n",
    "# Create a dataset of Point instances\n",
    "data = list(imap(Point, \n",
    "                 cycle(islice(count(), 3)), \n",
    "                 islice(count(), 10),\n",
    "                 )\n",
    "            )\n",
    "print 'Data:', data #(0,0)(1,1)(2,2)(0,3)...\n",
    "print\n",
    "\n",
    "# Try to group the unsorted data based on X values\n",
    "print 'Grouped, unsorted:'\n",
    "for k, g in groupby(data, lambda o:o.x):\n",
    "    print k, list(g) #return key, group pairs\n",
    "print\n",
    "\n",
    "# Sort the data\n",
    "data.sort()\n",
    "print 'Sorted:', data\n",
    "print\n",
    "\n",
    "# Group the sorted data based on X values\n",
    "print 'Grouped, sorted:'\n",
    "for k, g in groupby(data, lambda o:o.x):\n",
    "    print k, list(g)\n",
    "print"
   ]
  },
  {
   "cell_type": "markdown",
   "metadata": {},
   "source": [
    "## Challenge"
   ]
  },
  {
   "cell_type": "markdown",
   "metadata": {},
   "source": [
    "<div class=\"alert alert-success\">\n",
    "<p>This task aims to help you appreciate the usefulness of the `groupby()` function of `itertools`.\n",
    "<p>\n",
    "You are given a string $S$. Suppose a character '$c$' occurs consecutively $X$ times in the string. Write a function called **`compress`** that will replace these consecutive occurrences of the character '$c$' with ($X$, $c$) in the string.\n",
    "<p>\n",
    "For a better understanding of the problem, check the explanation.\n",
    "<p>\n",
    "<h3>Input Format</h3>\n",
    "<p>\n",
    "The function should accept a single argument containing the string $S$.\n",
    "<p>\n",
    "\n",
    "<h3>Output Format</h3>\n",
    "<p>\n",
    "The funcation should return the modified string.\n",
    "\n",
    "<h3>Constraints</h3>\n",
    "<p>\n",
    "All the characters of $S$ denote integers between $0$ and $9$.\n",
    "<p>\n",
    "$1\\le|S|\\le10^4$\n",
    "<p>\n",
    "<h3>Sample Input</h3>\n",
    "<p>\n",
    "```\n",
    "1222311\n",
    "```\n",
    "<p>\n",
    "<h3>Sample Output</h3>\n",
    "<p>\n",
    "```\n",
    "(1, 1) (3, 2) (1, 3) (2, 1)\n",
    "```\n",
    "<p>\n",
    "<h3>Explanation</h3>\n",
    "<p>\n",
    "First, the character $1$ occurs only once. It is replaced by $(1, 1)$. Then the character $2$ occurs three times, and it is replaced by $(3, 2)$ and so on.\n",
    "<p>\n",
    "Also, note the single space within each compression and between the compressions.\n",
    "</div>"
   ]
  },
  {
   "cell_type": "code",
   "execution_count": 18,
   "metadata": {
    "collapsed": false,
    "deletable": false,
    "nbgrader": {
     "checksum": "db77d67de89d6278ea7bb85dba27afcb",
     "grade": false,
     "grade_id": "itertools_17",
     "locked": false,
     "points": 5,
     "solution": true
    }
   },
   "outputs": [],
   "source": [
    "def compress(s):\n",
    "    \"\"\"Compress the string s so that consecutive characters 'c' are replaced by\n",
    "    (X, c) where X is the number of occurrences of c in the string. Returns a new\n",
    "    string continaing the compressed characters separated by spaces.\n",
    "    \"\"\"\n",
    "    #creating tuples for each character in s\n",
    "    tuples = [(int(i), int(i)) for i in s]\n",
    "    groups = []\n",
    "    \n",
    "    for k, g in groupby(tuples, itemgetter(0)):\n",
    "        groups.append(str((len(list(g)),k)))\n",
    "    \n",
    "    return \" \".join(groups).strip()\n",
    "    \n",
    "    "
   ]
  },
  {
   "cell_type": "markdown",
   "metadata": {},
   "source": [
    "Run the following tests to ensure your code is correct."
   ]
  },
  {
   "cell_type": "code",
   "execution_count": 19,
   "metadata": {
    "collapsed": false,
    "deletable": false,
    "nbgrader": {
     "checksum": "66c7051e184c1594baf074293a1b1c70",
     "grade": true,
     "grade_id": "itertools_18",
     "locked": true,
     "points": 5,
     "solution": false
    }
   },
   "outputs": [],
   "source": [
    "from nose.tools import assert_equal\n",
    "assert_equal(compress('1222311'), '(1, 1) (3, 2) (1, 3) (2, 1)')\n",
    "assert_equal(compress('2344244443222'), '(1, 2) (1, 3) (2, 4) (1, 2) (4, 4) (1, 3) (3, 2)')\n",
    "assert_equal(compress('9949333922222888888'), '(2, 9) (1, 4) (1, 9) (3, 3) (1, 9) (5, 2) (6, 8)')\n",
    "assert_equal(compress('11111111'), '(8, 1)')"
   ]
  }
 ],
 "metadata": {
  "kernelspec": {
   "display_name": "Python 2",
   "language": "python",
   "name": "python2"
  },
  "language_info": {
   "codemirror_mode": {
    "name": "ipython",
    "version": 2
   },
   "file_extension": ".py",
   "mimetype": "text/x-python",
   "name": "python",
   "nbconvert_exporter": "python",
   "pygments_lexer": "ipython2",
   "version": "2.7.11"
  }
 },
 "nbformat": 4,
 "nbformat_minor": 0
}
