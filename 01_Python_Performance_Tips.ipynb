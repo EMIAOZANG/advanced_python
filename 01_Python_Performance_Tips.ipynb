{
 "cells": [
  {
   "cell_type": "markdown",
   "metadata": {},
   "source": [
    "# DS-GA-3001 Advanced Python for Data Science"
   ]
  },
  {
   "cell_type": "markdown",
   "metadata": {
    "nbgrader": {
     "grade": false,
     "solution": false
    }
   },
   "source": [
    "Before you turn this problem in, make sure everything runs as expected. First, **restart the kernel** (in the menubar, select Kernel$\\rightarrow$Restart) and then **run all cells** (in the menubar, select Cell$\\rightarrow$Run All).\n",
    "\n",
    "Make sure you fill in any place that says `YOUR CODE HERE` or \"YOUR ANSWER HERE\", as well as your name and collaborators below:"
   ]
  },
  {
   "cell_type": "code",
   "execution_count": 1,
   "metadata": {
    "collapsed": false,
    "nbgrader": {
     "grade": false,
     "solution": false
    }
   },
   "outputs": [],
   "source": [
    "NAME = \"Jiayi Lu(jl6583)\"\n",
    "COLLABORATORS = \"\""
   ]
  },
  {
   "cell_type": "markdown",
   "metadata": {
    "nbgrader": {
     "grade": false,
     "solution": false
    }
   },
   "source": [
    "---"
   ]
  },
  {
   "cell_type": "markdown",
   "metadata": {
    "nbgrader": {
     "grade": false,
     "locked": false,
     "solution": false
    },
    "slideshow": {
     "slide_type": "-"
    }
   },
   "source": [
    "# Python Peformance Tips"
   ]
  },
  {
   "cell_type": "markdown",
   "metadata": {},
   "source": [
    "In this module, we will look at some simple ways for improving the performance of Python programs. As you work through the module, you will get the opportunity to try out each of the techniques and observe the results. The idea is not to get through the work as quickly as possible, but rather to understand the reasoning behind the improvements so you can apply them to other Python programs."
   ]
  },
  {
   "cell_type": "markdown",
   "metadata": {},
   "source": [
    "## Background"
   ]
  },
  {
   "cell_type": "markdown",
   "metadata": {},
   "source": [
    "Python is a dynamic interpreted language. The \"dynamic\" part means that the types of variables, functions arguments, etc. are not known until the program runs. An interpreted language is one that is directly executed, or compiled to bytecode for an abstract machine, rather than being compiled to the native object code and executed on a computer system. Python take the second approach, and compiles the source to bytecode (\\*.pyc files) which is then interpreted by the Python interpreter (CPython).\n",
    "\n",
    "While dynamic interpreted languages have great flexibility, they also suffer from significant performance limitations when compared to languages that compile directly to native object code. There are two primary reasons for this. The first is due to the dynamic nature of the language. Because the types of Python objects (variables, function arguments, etc.) are not known until the program is run, it is very difficult to optimize the interpreter, since it is not possible to know what the bytecode is going to do before it is executed. The second issue is that the bytecode generated from compiling Python is targeted at a Python Virtual Machine (PVM), not at the hardware that the program is running on. The Python interpreter must convert the PVM instructions into hardware instructions in order to execute the bytecode. This coversion is always going to carry some overhead, and is why languages such as Java are always somewhat slower than native languages such as C or C++.\n",
    "\n",
    "A good analysis of the Python interpreter is available [here](http://akaptur.com/blog/2013/11/15/introduction-to-the-python-interpreter).\n",
    "\n",
    "Although Python is a relatively slow language, that doesn't stop it from being useful for hight performance computing or for Data Science applications. There are a variety of techniques that can be used to improve performance, and we will be covering some of these here."
   ]
  },
  {
   "cell_type": "markdown",
   "metadata": {},
   "source": [
    "## Timing Python code\n",
    "\n",
    "In order to evaluate the usefulness of these performance improvement techniques, we are going to be timing how long it takes run snippits of code. While this does not provide an accurate measure of the performance, it does give an idea of the relative improvement (or decrease) in performance.\n",
    "\n",
    "Python provides the `timeit` module for [measuring the execution time of small code snippits](https://docs.python.org/2/library/timeit.html). This can be called from the command line, or by importing it into an exisiting program."
   ]
  },
  {
   "cell_type": "code",
   "execution_count": 2,
   "metadata": {
    "collapsed": false
   },
   "outputs": [
    {
     "name": "stdout",
     "output_type": "stream",
     "text": [
      "13.3676941395\n"
     ]
    }
   ],
   "source": [
    "import timeit\n",
    "def f():\n",
    "    y = 3.1415\n",
    "    for x in range(100):\n",
    "        y = y ** 0.7\n",
    "    return y\n",
    "\n",
    "print timeit.timeit(f, number=1000000)"
   ]
  },
  {
   "cell_type": "markdown",
   "metadata": {},
   "source": [
    "The `timeit` function will run the code a set number of times (in this case 1000000) and then report how long it took to run (in seconds), so to find out how long it took to run once, divide the result by 1000000. The `repeat` function can be used to perform multiple runs if desired (default 3) and report the result for each run."
   ]
  },
  {
   "cell_type": "markdown",
   "metadata": {},
   "source": [
    "An even easier method is to use the IPython `%timeit` or `%%timeit` magic functions. These do essentially the same thing as the timeit module. The IPython `%timeit` magic function is documented [here](http://ipython.readthedocs.org/en/stable/interactive/magics.html?highlight=timeit#magic-timeit)."
   ]
  },
  {
   "cell_type": "markdown",
   "metadata": {},
   "source": [
    "<div class=\"alert alert-success\">\n",
    "Use the `%timeit` magic function to time the function `f()` using the same number of loops as the previous example.\n",
    "</div>"
   ]
  },
  {
   "cell_type": "code",
   "execution_count": 3,
   "metadata": {
    "collapsed": false,
    "deletable": false,
    "nbgrader": {
     "checksum": "112ff5477be6738e78d3879cb66c0bd1",
     "grade": true,
     "grade_id": "timeit_1",
     "locked": false,
     "points": 1,
     "solution": true
    }
   },
   "outputs": [
    {
     "name": "stdout",
     "output_type": "stream",
     "text": [
      "1000000 loops, best of 3: 11.9 µs per loop\n"
     ]
    }
   ],
   "source": [
    "%timeit -n 1000000 f()"
   ]
  },
  {
   "cell_type": "markdown",
   "metadata": {},
   "source": [
    "<div class=\"alert alert-success\">\n",
    "The `timeit` module and `%timeit` magic function examples you ran above did not take the same amount of time to report the execution time of function `f`. Why did they take a different amount of time? (hint: read the documentation).\n",
    "</div>"
   ]
  },
  {
   "cell_type": "markdown",
   "metadata": {
    "deletable": false,
    "nbgrader": {
     "checksum": "5689444844520578ed6cae8f52f5dcb9",
     "grade": true,
     "grade_id": "timeit_2",
     "locked": false,
     "points": 1,
     "solution": true
    }
   },
   "source": [
    "Because the %timeit magic function runs loop 3 times by default, however, timeit.timeit() only runs the loop once"
   ]
  },
  {
   "cell_type": "markdown",
   "metadata": {
    "slideshow": {
     "slide_type": "-"
    }
   },
   "source": [
    "## Use built-in functions rather than Python code\n",
    "\n",
    "One of the easiest ways to improve Python performance is not to execute any Python code at all! Python provides a large number of built-in functions that perform a wide variety of operations. These built-in functions are written in C, and so are generally very fast. See the [Python documentation](https://docs.python.org/2/library/functions.html#built-in-functions) for a list of the available functions."
   ]
  },
  {
   "cell_type": "markdown",
   "metadata": {
    "slideshow": {
     "slide_type": "-"
    }
   },
   "source": [
    "The function called `my_max` takes a list of integers as an argument and finds the maximum value. "
   ]
  },
  {
   "cell_type": "code",
   "execution_count": 4,
   "metadata": {
    "collapsed": false,
    "slideshow": {
     "slide_type": "-"
    }
   },
   "outputs": [],
   "source": [
    "def my_max(values):\n",
    "    min_value = values[0]\n",
    "    for v in values:\n",
    "        if v < min_value:\n",
    "            min_value = v\n",
    "    return min_value\n",
    "\n",
    "import random\n",
    "randlist = [random.randint(0,1000) for p in range(0,1000)]"
   ]
  },
  {
   "cell_type": "markdown",
   "metadata": {
    "slideshow": {
     "slide_type": "-"
    }
   },
   "source": [
    "<div class=\"alert alert-success\">\n",
    "Compare the time it takes to run your function to the builtin `max` function using the same `randlist` list of integers.\n",
    "</div>"
   ]
  },
  {
   "cell_type": "code",
   "execution_count": 5,
   "metadata": {
    "collapsed": false
   },
   "outputs": [
    {
     "name": "stdout",
     "output_type": "stream",
     "text": [
      "10000 loops, best of 3: 42.9 µs per loop\n"
     ]
    }
   ],
   "source": [
    "%timeit my_max(randlist)"
   ]
  },
  {
   "cell_type": "code",
   "execution_count": 6,
   "metadata": {
    "collapsed": false,
    "deletable": false,
    "nbgrader": {
     "checksum": "f813f1fa33652c2508adbf1c38ab20f5",
     "grade": true,
     "grade_id": "builtin_1",
     "locked": false,
     "points": 1,
     "solution": true
    }
   },
   "outputs": [
    {
     "name": "stdout",
     "output_type": "stream",
     "text": [
      "10000 loops, best of 3: 23.7 µs per loop\n"
     ]
    }
   ],
   "source": [
    "%timeit max(randlist)"
   ]
  },
  {
   "cell_type": "markdown",
   "metadata": {},
   "source": [
    "## Intrinsic operators"
   ]
  },
  {
   "cell_type": "markdown",
   "metadata": {},
   "source": [
    "Another performance improvement is to use *intrinsic operators* (+, -, \\*, etc.) instead of a user defined funciton. The `operator` module exports a set of efficient functions corresponding to the intrinsic operators of Python. For example, `operator.add(x, y)` is equivalent to the expression `x+y`. See the [Python documentation](https://docs.python.org/2/library/operator.html#module-operator) for a list of standard operators."
   ]
  },
  {
   "cell_type": "code",
   "execution_count": 7,
   "metadata": {
    "collapsed": false
   },
   "outputs": [],
   "source": [
    "randlist2 = [random.randint(0,1000) for p in range(0,1000)]"
   ]
  },
  {
   "cell_type": "code",
   "execution_count": 8,
   "metadata": {
    "collapsed": false
   },
   "outputs": [
    {
     "name": "stdout",
     "output_type": "stream",
     "text": [
      "10000 loops, best of 3: 145 µs per loop\n"
     ]
    }
   ],
   "source": [
    "%timeit map(lambda x,y: x+y, randlist, randlist2)"
   ]
  },
  {
   "cell_type": "markdown",
   "metadata": {},
   "source": [
    "If the user defined function is simple, it can be replaced directly with the equivalent intrinsic operator:"
   ]
  },
  {
   "cell_type": "code",
   "execution_count": 9,
   "metadata": {
    "collapsed": false
   },
   "outputs": [
    {
     "data": {
      "text/plain": [
       "400"
      ]
     },
     "execution_count": 9,
     "metadata": {},
     "output_type": "execute_result"
    }
   ],
   "source": [
    "import operator\n",
    "operator.add(100, 300)"
   ]
  },
  {
   "cell_type": "markdown",
   "metadata": {},
   "source": [
    "<div class=\"alert alert-success\">\n",
    "Using the same `map` function above, replace the lambda function with the equivalent intrinsic operator and measure the time it takes to run.\n",
    "</div>"
   ]
  },
  {
   "cell_type": "code",
   "execution_count": 10,
   "metadata": {
    "collapsed": false,
    "deletable": false,
    "nbgrader": {
     "checksum": "7e705101cc76fbf338081ef933ad8b52",
     "grade": true,
     "grade_id": "intrinsic_1",
     "locked": false,
     "points": 1,
     "solution": true
    }
   },
   "outputs": [
    {
     "name": "stdout",
     "output_type": "stream",
     "text": [
      "10000 loops, best of 3: 89 µs per loop\n"
     ]
    }
   ],
   "source": [
    "%timeit map(operator.add, randlist, randlist2)"
   ]
  },
  {
   "cell_type": "markdown",
   "metadata": {},
   "source": [
    "## Function call overhead"
   ]
  },
  {
   "cell_type": "markdown",
   "metadata": {},
   "source": [
    "Function call overhead in Python is relatively high, especially compared with the execution speed of a builtin function. The overhead in Python is mainly due to the dynamic type checking of function arguments that must be performed before and after the function call. This strongly suggests that where appropriate, functions should handle data aggregation rather than being called on a per element basis. "
   ]
  },
  {
   "cell_type": "markdown",
   "metadata": {},
   "source": [
    "In the following example, the function `func_f1` is called for each element in the list. "
   ]
  },
  {
   "cell_type": "code",
   "execution_count": 11,
   "metadata": {
    "collapsed": false
   },
   "outputs": [],
   "source": [
    "x = 0\n",
    "def func_f1(i):\n",
    "    global x\n",
    "    x = x + i\n",
    "    \n",
    "def func_test1():\n",
    "    for i in range(10000): \n",
    "        func_f1(i)"
   ]
  },
  {
   "cell_type": "markdown",
   "metadata": {},
   "source": [
    "<div class=\"alert alert-success\">\n",
    "Time how long it takes for function `func_test1` to execute.\n",
    "</div>"
   ]
  },
  {
   "cell_type": "code",
   "execution_count": 12,
   "metadata": {
    "collapsed": false,
    "deletable": false,
    "nbgrader": {
     "checksum": "48321552c10032dea0ee12f32ddef285",
     "grade": true,
     "grade_id": "func_1",
     "locked": false,
     "points": 1,
     "solution": true
    }
   },
   "outputs": [
    {
     "name": "stdout",
     "output_type": "stream",
     "text": [
      "1000 loops, best of 3: 1.76 ms per loop\n"
     ]
    }
   ],
   "source": [
    "%timeit func_test1()"
   ]
  },
  {
   "cell_type": "markdown",
   "metadata": {},
   "source": [
    "In the next example, the loop is moved inside the function so that the function is only called once instead of 10000 times."
   ]
  },
  {
   "cell_type": "code",
   "execution_count": 13,
   "metadata": {
    "collapsed": false
   },
   "outputs": [],
   "source": [
    "x = 0\n",
    "def func_f2(list):\n",
    "    global x\n",
    "    for i in list:\n",
    "        x = x + i\n",
    "\n",
    "def func_test2():\n",
    "    func_f2(range(10000))"
   ]
  },
  {
   "cell_type": "markdown",
   "metadata": {},
   "source": [
    "<div class=\"alert alert-success\">\n",
    "Does moving the function call result in faster execution? Time how long it takes to run the following code compared to the previous example.\n",
    "</div>"
   ]
  },
  {
   "cell_type": "code",
   "execution_count": 14,
   "metadata": {
    "collapsed": false,
    "deletable": false,
    "nbgrader": {
     "checksum": "e22ddadfc8b40c3b1bdfe5a9943aad92",
     "grade": true,
     "grade_id": "func_2",
     "locked": false,
     "points": 1,
     "solution": true
    }
   },
   "outputs": [
    {
     "name": "stdout",
     "output_type": "stream",
     "text": [
      "1000 loops, best of 3: 881 µs per loop\n"
     ]
    }
   ],
   "source": [
    "%timeit func_test2()"
   ]
  },
  {
   "cell_type": "markdown",
   "metadata": {},
   "source": [
    "<div class=\"alert alert-success\">\n",
    "In the second example, there is still function call overhead every time `func_test2` is called. Modify the function to eliminate this overhead, then time the resulting execution.\n",
    "</div>"
   ]
  },
  {
   "cell_type": "code",
   "execution_count": 15,
   "metadata": {
    "collapsed": false,
    "deletable": false,
    "nbgrader": {
     "checksum": "1be3f742ce84d7966763ea942605a59a",
     "grade": true,
     "grade_id": "func_3",
     "locked": false,
     "points": 1,
     "solution": true
    }
   },
   "outputs": [
    {
     "name": "stdout",
     "output_type": "stream",
     "text": [
      "1000 loops, best of 3: 887 µs per loop\n"
     ]
    }
   ],
   "source": [
    "def func_test2():\n",
    "    global x\n",
    "    for i in range(10000):\n",
    "        x = x + i\n",
    "%timeit func_test2()"
   ]
  },
  {
   "cell_type": "markdown",
   "metadata": {},
   "source": [
    "## Membership testing with sets and dictionaries\n",
    " \n",
    "Python is very fast at checking if an element exists in a `dict` or in a `set`. This is because both `dict` and `set` are implemented using a hash table. Although this seems an obvious choice of data structure for a `dict`, it is not so obvious that a `set` would also use a hash table. Therefore, if you need to check membership very often, use dict or set as your container rather than searching a list."
   ]
  },
  {
   "cell_type": "markdown",
   "metadata": {},
   "source": [
    "First, let's see how long it takes to find different elements in a list."
   ]
  },
  {
   "cell_type": "code",
   "execution_count": 16,
   "metadata": {
    "collapsed": false
   },
   "outputs": [],
   "source": [
    "mylist = [x for x in 'abcdefghijklmnopqrstuvwxyz']"
   ]
  },
  {
   "cell_type": "markdown",
   "metadata": {},
   "source": [
    "<div class=\"alert alert-success\">\n",
    "Time how long it takes to find 'a' in mylist\n",
    "</div>"
   ]
  },
  {
   "cell_type": "code",
   "execution_count": 17,
   "metadata": {
    "collapsed": false,
    "deletable": false,
    "nbgrader": {
     "checksum": "a62b9881d23121be5f99f763de09d347",
     "grade": true,
     "grade_id": "membership_1",
     "locked": false,
     "points": 1,
     "solution": true
    }
   },
   "outputs": [
    {
     "name": "stdout",
     "output_type": "stream",
     "text": [
      "10000000 loops, best of 3: 76.1 ns per loop\n"
     ]
    }
   ],
   "source": [
    "%timeit 'a' in mylist"
   ]
  },
  {
   "cell_type": "markdown",
   "metadata": {},
   "source": [
    "<div class=\"alert alert-success\">\n",
    "Time how long it takes to find 'z' in mylist\n",
    "</div>"
   ]
  },
  {
   "cell_type": "code",
   "execution_count": 18,
   "metadata": {
    "collapsed": false,
    "deletable": false,
    "nbgrader": {
     "checksum": "adb5e1cdfe0ffcc44dd9d8e831875488",
     "grade": true,
     "grade_id": "membership_2",
     "locked": false,
     "points": 1,
     "solution": true
    }
   },
   "outputs": [
    {
     "name": "stdout",
     "output_type": "stream",
     "text": [
      "1000000 loops, best of 3: 428 ns per loop\n"
     ]
    }
   ],
   "source": [
    "%timeit 'z' in mylist"
   ]
  },
  {
   "cell_type": "markdown",
   "metadata": {},
   "source": [
    "Now do the same thing, but use a set instead of a list."
   ]
  },
  {
   "cell_type": "code",
   "execution_count": 19,
   "metadata": {
    "collapsed": false
   },
   "outputs": [],
   "source": [
    "myset = set('abcdefghijklmnopqrstuvwxyz')"
   ]
  },
  {
   "cell_type": "markdown",
   "metadata": {},
   "source": [
    "<div class=\"alert alert-success\">\n",
    "Time how long it takes to find 'a' in myset\n",
    "</div>"
   ]
  },
  {
   "cell_type": "code",
   "execution_count": 20,
   "metadata": {
    "collapsed": false,
    "deletable": false,
    "nbgrader": {
     "checksum": "4a0c66d2d18bdd1b48554e4d0208de1b",
     "grade": true,
     "grade_id": "membership_3",
     "locked": false,
     "points": 1,
     "solution": true
    }
   },
   "outputs": [
    {
     "name": "stdout",
     "output_type": "stream",
     "text": [
      "10000000 loops, best of 3: 69.3 ns per loop\n"
     ]
    }
   ],
   "source": [
    "%timeit 'a' in myset"
   ]
  },
  {
   "cell_type": "markdown",
   "metadata": {},
   "source": [
    "<div class=\"alert alert-success\">\n",
    "Time how long it takes to find 'z' in myset\n",
    "</div>"
   ]
  },
  {
   "cell_type": "code",
   "execution_count": 21,
   "metadata": {
    "collapsed": false,
    "deletable": false,
    "nbgrader": {
     "checksum": "5ffc5609b79a54ad05bbe4694685a94d",
     "grade": true,
     "grade_id": "membership_4",
     "locked": false,
     "points": 1,
     "solution": true
    }
   },
   "outputs": [
    {
     "name": "stdout",
     "output_type": "stream",
     "text": [
      "The slowest run took 30.63 times longer than the fastest. This could mean that an intermediate result is being cached \n",
      "10000000 loops, best of 3: 70.1 ns per loop\n"
     ]
    }
   ],
   "source": [
    "%timeit 'z' in myset"
   ]
  },
  {
   "cell_type": "markdown",
   "metadata": {},
   "source": [
    "## String concatenation"
   ]
  },
  {
   "cell_type": "markdown",
   "metadata": {},
   "source": [
    "Strings in Python are immutable, which has some advantages and disadvantages. This attrbute means that strings can be used as keys in dictionaries and individual copies can be shared among multiple variable bindings. (Python automatically shares one- and two-character strings.) However the disadvantage is that you can't say something like, \"change all the 'a's to 'b's\" in any given string. Instead, you have to create a new string with the desired properties. This continual copying can lead to significant inefficiencies in Python programs because it means using the '+' or '+=' operators may build new strings for each intermediate step."
   ]
  },
  {
   "cell_type": "code",
   "execution_count": 22,
   "metadata": {
    "collapsed": false
   },
   "outputs": [],
   "source": [
    "def make_string(a_list):\n",
    "    mystring = ''\n",
    "    for x in a_list:\n",
    "        mystring += x #so you can't set mutable objects as dictionary keys\n",
    "    return mystring\n",
    "\n",
    "mylist = [x for x in 'abcdefghijklmnopqrstuvwxyz']"
   ]
  },
  {
   "cell_type": "markdown",
   "metadata": {},
   "source": [
    "<div class=\"alert alert-success\">\n",
    "Time how long it takes to call `make_string` with `mylist`.\n",
    "</div>"
   ]
  },
  {
   "cell_type": "code",
   "execution_count": 23,
   "metadata": {
    "collapsed": false,
    "deletable": false,
    "nbgrader": {
     "checksum": "60f4d6f90d1cd1753e9f03e354521e0d",
     "grade": true,
     "grade_id": "string_1",
     "locked": false,
     "points": 1,
     "solution": true
    }
   },
   "outputs": [
    {
     "name": "stdout",
     "output_type": "stream",
     "text": [
      "The slowest run took 9.00 times longer than the fastest. This could mean that an intermediate result is being cached \n",
      "100000 loops, best of 3: 1.99 µs per loop\n"
     ]
    }
   ],
   "source": [
    "%timeit make_string(mylist)"
   ]
  },
  {
   "cell_type": "markdown",
   "metadata": {},
   "source": [
    "<div class=\"alert alert-success\">\n",
    "Time how long it takes to create the string using `''.join(mylist)`\n",
    "</div>"
   ]
  },
  {
   "cell_type": "code",
   "execution_count": 24,
   "metadata": {
    "collapsed": false,
    "deletable": false,
    "nbgrader": {
     "checksum": "1a00fe90e1f7f43abc4d83afe01c96a1",
     "grade": true,
     "grade_id": "string_2",
     "locked": false,
     "points": 1,
     "solution": true
    }
   },
   "outputs": [
    {
     "name": "stdout",
     "output_type": "stream",
     "text": [
      "The slowest run took 9.11 times longer than the fastest. This could mean that an intermediate result is being cached \n",
      "1000000 loops, best of 3: 523 ns per loop\n"
     ]
    }
   ],
   "source": [
    "%timeit ''.join(mylist)"
   ]
  },
  {
   "cell_type": "markdown",
   "metadata": {},
   "source": [
    "## Cache results with a Python decorator"
   ]
  },
  {
   "cell_type": "markdown",
   "metadata": {},
   "source": [
    "The symbol “@” is Python decorator syntax. Python decorators are normally used for tracing, locking, or logging. However, you can also decorate a Python function so that it remembers the results needed later. See the [`functools` documentation](https://docs.python.org/2/library/functools.html#functools.wraps) for more information on creating and using decorators."
   ]
  },
  {
   "cell_type": "markdown",
   "metadata": {},
   "source": [
    "The following function computes the `i`th fibonacci number for a given value of `i`. "
   ]
  },
  {
   "cell_type": "code",
   "execution_count": 25,
   "metadata": {
    "collapsed": false
   },
   "outputs": [],
   "source": [
    "def fib(i):\n",
    "    if i < 2: return 1\n",
    "    return fib(i-1) + fib(i-2)\n"
   ]
  },
  {
   "cell_type": "markdown",
   "metadata": {},
   "source": [
    "<div class=\"alert alert-success\">\n",
    "Time how long it takes to find `fib(20)`.\n",
    "</div>"
   ]
  },
  {
   "cell_type": "code",
   "execution_count": 26,
   "metadata": {
    "collapsed": false,
    "deletable": false,
    "nbgrader": {
     "checksum": "b14fd1c30fc166bf1010180973d9d3c0",
     "grade": true,
     "grade_id": "cache_1",
     "locked": false,
     "points": 1,
     "solution": true
    },
    "scrolled": true
   },
   "outputs": [
    {
     "name": "stdout",
     "output_type": "stream",
     "text": [
      "100 loops, best of 3: 3.33 ms per loop\n"
     ]
    }
   ],
   "source": [
    "%timeit fib(20)"
   ]
  },
  {
   "cell_type": "markdown",
   "metadata": {},
   "source": [
    "Using the following code, we can create a decorator that saves each intermediate value in memory rather than calculating it every time. "
   ]
  },
  {
   "cell_type": "code",
   "execution_count": 27,
   "metadata": {
    "collapsed": false
   },
   "outputs": [],
   "source": [
    "from functools import wraps\n",
    "def cache(f):\n",
    "    cache = { }\n",
    "    @wraps(f) #caches the result of function\n",
    "    def wrap(*arg):  #closure structure, when you need your function to return a function pointer\n",
    "        if arg not in cache: cache[arg] = f(*arg)\n",
    "        return cache[arg]\n",
    "    return wrap"
   ]
  },
  {
   "cell_type": "markdown",
   "metadata": {},
   "source": [
    "<div class=\"alert alert-success\">\n",
    "Time how long the same `fib` code takes if it is decorated with `@cache`\n",
    "</div>"
   ]
  },
  {
   "cell_type": "code",
   "execution_count": 28,
   "metadata": {
    "collapsed": false,
    "deletable": false,
    "nbgrader": {
     "checksum": "41e94da7a22cc66326e9d94807accb99",
     "grade": true,
     "grade_id": "cache_2",
     "locked": false,
     "points": 1,
     "solution": true
    }
   },
   "outputs": [
    {
     "name": "stdout",
     "output_type": "stream",
     "text": [
      "The slowest run took 226.35 times longer than the fastest. This could mean that an intermediate result is being cached \n",
      "1000000 loops, best of 3: 296 ns per loop\n"
     ]
    }
   ],
   "source": [
    "@cache\n",
    "def fib(i):\n",
    "    if i < 2: return 1\n",
    "    return fib(i-1) + fib(i-2)\n",
    "\n",
    "%timeit fib(20)"
   ]
  },
  {
   "cell_type": "markdown",
   "metadata": {},
   "source": [
    "## Optimizing loops"
   ]
  },
  {
   "cell_type": "markdown",
   "metadata": {},
   "source": [
    "Remember that everything you put in a loop gets executed for each loop iteration. They key to optimising loops is to minimize this. Even something as simple as using the '.' notation can add extra overhead. Since Python functions can be assigned to variables, this is one way to speed up the execution. However, this comes at the cost of making the code less readable and maintainable, so should be used with caution."
   ]
  },
  {
   "cell_type": "markdown",
   "metadata": {},
   "source": [
    "The following code creates a list of the same words in `lowerlist` but first converts them to uppercase."
   ]
  },
  {
   "cell_type": "code",
   "execution_count": 29,
   "metadata": {
    "collapsed": false
   },
   "outputs": [],
   "source": [
    "lowerlist = ['abcdefghijklmnopqrstuvwxyz'[:random.randint(0,25)] for x in range(500)]\n",
    "upperlist = []\n",
    "\n",
    "def do_append():\n",
    "    for word in lowerlist:\n",
    "        upperlist.append(str.upper(word))"
   ]
  },
  {
   "cell_type": "markdown",
   "metadata": {},
   "source": [
    "<div class=\"alert alert-success\">\n",
    "Time how long it takes to execute `do_append`.\n",
    "</div>"
   ]
  },
  {
   "cell_type": "code",
   "execution_count": 30,
   "metadata": {
    "collapsed": false,
    "deletable": false,
    "nbgrader": {
     "checksum": "8cd06ec81c5ac4b9e37aaa3c28d7bbb6",
     "grade": true,
     "grade_id": "loops_1",
     "locked": false,
     "points": 1,
     "solution": true
    }
   },
   "outputs": [
    {
     "name": "stdout",
     "output_type": "stream",
     "text": [
      "1000 loops, best of 3: 292 µs per loop\n"
     ]
    }
   ],
   "source": [
    "%timeit do_append()"
   ]
  },
  {
   "cell_type": "markdown",
   "metadata": {},
   "source": [
    "Using the same code as above, first save the functions `str.upper` and `upperlist.append` into separate variables and replaced the calls to these functions with your variable names:\n",
    "\n",
    "```\n",
    "upper = str.upper\n",
    "append = upperlist.append\n",
    "```"
   ]
  },
  {
   "cell_type": "markdown",
   "metadata": {},
   "source": [
    "<div class=\"alert alert-success\">\n",
    "Now try timing the loop again. This avoids a method lookup overhead each time the function is called. While this is very small, it does add up when executing a large number of loops.\n",
    "</div>"
   ]
  },
  {
   "cell_type": "code",
   "execution_count": 31,
   "metadata": {
    "collapsed": false,
    "deletable": false,
    "nbgrader": {
     "checksum": "424fcd3078337c5853b65c8658f4c658",
     "grade": true,
     "grade_id": "loops_2",
     "locked": false,
     "points": 1,
     "solution": true
    }
   },
   "outputs": [
    {
     "name": "stdout",
     "output_type": "stream",
     "text": [
      "1000 loops, best of 3: 230 µs per loop\n"
     ]
    }
   ],
   "source": [
    "def do_append():\n",
    "    upper = str.upper\n",
    "    append = upperlist.append\n",
    "    for word in lowerlist:\n",
    "        append(upper(word))\n",
    "%timeit do_append()"
   ]
  },
  {
   "cell_type": "markdown",
   "metadata": {},
   "source": [
    "In this example, the `upperlist`, `upper` and `append` variables are global. Another optimization for the loop version is to use local variables rather than global variables as these can be accessed much more efficiently in Python."
   ]
  },
  {
   "cell_type": "markdown",
   "metadata": {},
   "source": [
    "<div class=\"alert alert-success\">\n",
    "Re-write the above example to use local variables rather than global variables and time the execution.\n",
    "</div>"
   ]
  },
  {
   "cell_type": "code",
   "execution_count": 32,
   "metadata": {
    "collapsed": false,
    "deletable": false,
    "nbgrader": {
     "checksum": "9435bdfe5f8d66797cb37a338904e58d",
     "grade": true,
     "grade_id": "loops_3",
     "locked": false,
     "points": 1,
     "solution": true
    }
   },
   "outputs": [
    {
     "name": "stdout",
     "output_type": "stream",
     "text": [
      "1000 loops, best of 3: 232 µs per loop\n"
     ]
    }
   ],
   "source": [
    "upper = str.upper\n",
    "append = upperlist.append\n",
    "def do_append():\n",
    "    for word in lowerlist:\n",
    "        append(upper(word))\n",
    "%timeit do_append()"
   ]
  },
  {
   "cell_type": "markdown",
   "metadata": {},
   "source": [
    "Another way to speed up loops is to remove the looping stucture altogether. If the body of the loop is simple, the interpreter overhead of the `for` loop itself can be a substantial amount of the overhead. This is where the `map` function is handy. You can think of `map` as a for loop moved into C code. The only restriction is that the \"loop body\" of `map` must be a function call. Besides the syntactic benefit of list comprehensions, they are often as fast or faster than equivalent use of map."
   ]
  },
  {
   "cell_type": "markdown",
   "metadata": {},
   "source": [
    "<div class=\"alert alert-success\">\n",
    "Rewrite the `do_append` function using `map` to apply the `str.upper` function to `lowerlist` and time how long it takes to execute.\n",
    "</div>"
   ]
  },
  {
   "cell_type": "code",
   "execution_count": 33,
   "metadata": {
    "collapsed": false,
    "deletable": false,
    "nbgrader": {
     "checksum": "ed222642fdc5ff25087b7ea32a8cfc52",
     "grade": true,
     "grade_id": "loops_4",
     "locked": false,
     "points": 1,
     "solution": true
    }
   },
   "outputs": [
    {
     "name": "stdout",
     "output_type": "stream",
     "text": [
      "10000 loops, best of 3: 184 µs per loop\n"
     ]
    }
   ],
   "source": [
    "def do_append():\n",
    "    upper = str.upper\n",
    "    map(upper,lowerlist)\n",
    "%timeit do_append()"
   ]
  },
  {
   "cell_type": "markdown",
   "metadata": {},
   "source": [
    "<div class=\"alert alert-success\">\n",
    "The same loop can also be written with a list comprehension. Do this, and time how long it takes.\n",
    "</div>"
   ]
  },
  {
   "cell_type": "code",
   "execution_count": 34,
   "metadata": {
    "collapsed": false,
    "deletable": false,
    "nbgrader": {
     "checksum": "b3066ae48096cd286d5910e28662daea",
     "grade": true,
     "grade_id": "loops_5",
     "locked": false,
     "points": 1,
     "solution": true
    }
   },
   "outputs": [
    {
     "name": "stdout",
     "output_type": "stream",
     "text": [
      "10000 loops, best of 3: 233 µs per loop\n"
     ]
    }
   ],
   "source": [
    "def do_append():\n",
    "    upper = str.upper\n",
    "    upperlist = [upper(word) for word in lowerlist] #still has loop overheads\n",
    "%timeit do_append()"
   ]
  },
  {
   "cell_type": "markdown",
   "metadata": {},
   "source": [
    "You can use list comprehension to replace many “for” and “while” blocks. List comprehension is faster because it is optimized for the Python interpreter to spot a predictable pattern during looping."
   ]
  },
  {
   "cell_type": "markdown",
   "metadata": {},
   "source": [
    "The following code computes a list of even numbers."
   ]
  },
  {
   "cell_type": "code",
   "execution_count": 35,
   "metadata": {
    "collapsed": false
   },
   "outputs": [],
   "source": [
    "def evens():\n",
    "    evens = []\n",
    "    for i in range(1000):\n",
    "        if i % 2 == 0:\n",
    "            evens.append(i)\n",
    "    return evens"
   ]
  },
  {
   "cell_type": "markdown",
   "metadata": {},
   "source": [
    "<div class=\"alert alert-success\">\n",
    "Time how long it takes for this function to execute.\n",
    "</div>"
   ]
  },
  {
   "cell_type": "code",
   "execution_count": 36,
   "metadata": {
    "collapsed": false,
    "deletable": false,
    "nbgrader": {
     "checksum": "e11484dfefd6a33f2136f40290a39de7",
     "grade": true,
     "grade_id": "loops_6",
     "locked": false,
     "points": 1,
     "solution": true
    }
   },
   "outputs": [
    {
     "name": "stdout",
     "output_type": "stream",
     "text": [
      "1000 loops, best of 3: 182 µs per loop\n"
     ]
    }
   ],
   "source": [
    "%timeit evens()"
   ]
  },
  {
   "cell_type": "markdown",
   "metadata": {},
   "source": [
    "<div class=\"alert alert-success\">\n",
    "Time how long it takes to create the same list with an equivalent comprehension.\n",
    "</div>"
   ]
  },
  {
   "cell_type": "code",
   "execution_count": 37,
   "metadata": {
    "collapsed": false,
    "deletable": false,
    "nbgrader": {
     "checksum": "f3f96835073a5fafe7174145f8223849",
     "grade": true,
     "grade_id": "loops_7",
     "locked": false,
     "points": 1,
     "solution": true
    }
   },
   "outputs": [
    {
     "name": "stdout",
     "output_type": "stream",
     "text": [
      "10000 loops, best of 3: 103 µs per loop\n"
     ]
    }
   ],
   "source": [
    "%timeit [i for i in range(1000) if i % 2 == 0]"
   ]
  },
  {
   "cell_type": "markdown",
   "metadata": {},
   "source": [
    "## Import overhead"
   ]
  },
  {
   "cell_type": "markdown",
   "metadata": {},
   "source": [
    "import statements can be executed just about anywhere. It's often useful to place them inside functions to restrict their visibility and/or reduce initial startup time. Although Python's interpreter is optimized to not import the same module multiple times, repeatedly executing an import statement can seriously affect performance in some circumstances."
   ]
  },
  {
   "cell_type": "markdown",
   "metadata": {},
   "source": [
    "The following two functions do the same thing, the only difference is the location of the `import` statement."
   ]
  },
  {
   "cell_type": "code",
   "execution_count": 38,
   "metadata": {
    "collapsed": false
   },
   "outputs": [],
   "source": [
    "def func():\n",
    "    import string\n",
    "    string.lower('Python')"
   ]
  },
  {
   "cell_type": "code",
   "execution_count": 39,
   "metadata": {
    "collapsed": false
   },
   "outputs": [],
   "source": [
    "import string\n",
    "def func():\n",
    "    string.lower('Python')"
   ]
  },
  {
   "cell_type": "markdown",
   "metadata": {},
   "source": [
    "<div class=\"alert alert-success\">\n",
    "Compare the execution of the two functions by timing how long it takes to run each 10000 times.\n",
    "</div>"
   ]
  },
  {
   "cell_type": "code",
   "execution_count": 40,
   "metadata": {
    "collapsed": false,
    "deletable": false,
    "nbgrader": {
     "checksum": "1a2a749b8ae07cadad1d8130092a2857",
     "grade": true,
     "grade_id": "import_1",
     "locked": false,
     "points": 1,
     "solution": true
    }
   },
   "outputs": [
    {
     "name": "stdout",
     "output_type": "stream",
     "text": [
      "10000 loops, best of 3: 479 ns per loop\n"
     ]
    }
   ],
   "source": [
    "%timeit -n 10000 func()"
   ]
  },
  {
   "cell_type": "markdown",
   "metadata": {},
   "source": [
    "Note that using string methods avoids the need to import at all, and runs even faster."
   ]
  },
  {
   "cell_type": "code",
   "execution_count": 41,
   "metadata": {
    "collapsed": false
   },
   "outputs": [],
   "source": [
    "def func():\n",
    "    'Python'.lower()"
   ]
  },
  {
   "cell_type": "markdown",
   "metadata": {},
   "source": [
    "<div class=\"alert alert-success\">\n",
    "Try executing this function 10000 times and see how long it takes.\n",
    "</div>"
   ]
  },
  {
   "cell_type": "code",
   "execution_count": 42,
   "metadata": {
    "collapsed": false,
    "deletable": false,
    "nbgrader": {
     "checksum": "436febfad836b169325707bc6b78f395",
     "grade": true,
     "grade_id": "import_2",
     "locked": false,
     "points": 1,
     "solution": true
    }
   },
   "outputs": [
    {
     "name": "stdout",
     "output_type": "stream",
     "text": [
      "10000 loops, best of 3: 301 ns per loop\n"
     ]
    }
   ],
   "source": [
    "%timeit -n 10000 func()"
   ]
  }
 ],
 "metadata": {
  "kernelspec": {
   "display_name": "Python 2",
   "language": "python",
   "name": "python2"
  },
  "language_info": {
   "codemirror_mode": {
    "name": "ipython",
    "version": 2
   },
   "file_extension": ".py",
   "mimetype": "text/x-python",
   "name": "python",
   "nbconvert_exporter": "python",
   "pygments_lexer": "ipython2",
   "version": "2.7.11"
  }
 },
 "nbformat": 4,
 "nbformat_minor": 0
}
